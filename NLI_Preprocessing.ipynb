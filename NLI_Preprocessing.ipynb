{
  "cells": [
    {
      "cell_type": "code",
      "execution_count": null,
      "metadata": {
        "colab": {
          "base_uri": "https://localhost:8080/"
        },
        "execution": {
          "iopub.execute_input": "2022-04-26T07:04:05.504987Z",
          "iopub.status.busy": "2022-04-26T07:04:05.504720Z",
          "iopub.status.idle": "2022-04-26T07:04:08.846922Z",
          "shell.execute_reply": "2022-04-26T07:04:08.846304Z"
        },
        "id": "rb4JURvvkXTY",
        "outputId": "2a065ad3-a16d-4005-960d-b1c5f7f096d1",
        "papermill": {
          "duration": 3.358728,
          "end_time": "2022-04-26T07:04:08.848871",
          "exception": false,
          "start_time": "2022-04-26T07:04:05.490143",
          "status": "completed"
        },
        "tags": []
      },
      "outputs": [
        {
          "name": "stdout",
          "output_type": "stream",
          "text": [
            "Looking in indexes: https://pypi.org/simple, https://packagecloud.io/github/git-lfs/pypi/simple\n",
            "Requirement already satisfied: transformers in ./miniconda3/envs/ohh_bhai/lib/python3.8/site-packages (4.18.0)\n",
            "Requirement already satisfied: numpy>=1.17 in ./miniconda3/envs/ohh_bhai/lib/python3.8/site-packages (from transformers) (1.19.1)\n",
            "Requirement already satisfied: pyyaml>=5.1 in ./miniconda3/envs/ohh_bhai/lib/python3.8/site-packages (from transformers) (5.4.1)\n",
            "Requirement already satisfied: tqdm>=4.27 in ./miniconda3/envs/ohh_bhai/lib/python3.8/site-packages (from transformers) (4.64.0)\n",
            "Requirement already satisfied: huggingface-hub<1.0,>=0.1.0 in ./miniconda3/envs/ohh_bhai/lib/python3.8/site-packages (from transformers) (0.5.1)\n",
            "Requirement already satisfied: filelock in ./miniconda3/envs/ohh_bhai/lib/python3.8/site-packages (from transformers) (3.6.0)\n",
            "Requirement already satisfied: tokenizers!=0.11.3,<0.13,>=0.11.1 in ./miniconda3/envs/ohh_bhai/lib/python3.8/site-packages (from transformers) (0.11.6)\n",
            "Requirement already satisfied: packaging>=20.0 in ./miniconda3/envs/ohh_bhai/lib/python3.8/site-packages (from transformers) (21.3)\n",
            "Requirement already satisfied: sacremoses in ./miniconda3/envs/ohh_bhai/lib/python3.8/site-packages (from transformers) (0.0.49)\n",
            "Requirement already satisfied: regex!=2019.12.17 in ./miniconda3/envs/ohh_bhai/lib/python3.8/site-packages (from transformers) (2022.3.15)\n",
            "Requirement already satisfied: requests in ./miniconda3/envs/ohh_bhai/lib/python3.8/site-packages (from transformers) (2.24.0)\n",
            "Requirement already satisfied: typing-extensions>=3.7.4.3 in ./miniconda3/envs/ohh_bhai/lib/python3.8/site-packages (from huggingface-hub<1.0,>=0.1.0->transformers) (4.1.1)\n",
            "Requirement already satisfied: pyparsing!=3.0.5,>=2.0.2 in ./miniconda3/envs/ohh_bhai/lib/python3.8/site-packages (from packaging>=20.0->transformers) (3.0.4)\n",
            "Requirement already satisfied: chardet<4,>=3.0.2 in ./miniconda3/envs/ohh_bhai/lib/python3.8/site-packages (from requests->transformers) (3.0.4)\n",
            "Requirement already satisfied: urllib3!=1.25.0,!=1.25.1,<1.26,>=1.21.1 in ./miniconda3/envs/ohh_bhai/lib/python3.8/site-packages (from requests->transformers) (1.25.11)\n",
            "Requirement already satisfied: certifi>=2017.4.17 in ./miniconda3/envs/ohh_bhai/lib/python3.8/site-packages (from requests->transformers) (2021.10.8)\n",
            "Requirement already satisfied: idna<3,>=2.5 in ./miniconda3/envs/ohh_bhai/lib/python3.8/site-packages (from requests->transformers) (2.10)\n",
            "Requirement already satisfied: six in ./miniconda3/envs/ohh_bhai/lib/python3.8/site-packages (from sacremoses->transformers) (1.15.0)\n",
            "Requirement already satisfied: click in ./miniconda3/envs/ohh_bhai/lib/python3.8/site-packages (from sacremoses->transformers) (7.1.2)\n",
            "Requirement already satisfied: joblib in ./miniconda3/envs/ohh_bhai/lib/python3.8/site-packages (from sacremoses->transformers) (1.1.0)\n"
          ]
        }
      ],
      "source": [
        "!pip install transformers"
      ],
      "id": "rb4JURvvkXTY"
    },
    {
      "cell_type": "code",
      "execution_count": null,
      "metadata": {
        "execution": {
          "iopub.execute_input": "2022-04-26T07:04:08.874963Z",
          "iopub.status.busy": "2022-04-26T07:04:08.874783Z",
          "iopub.status.idle": "2022-04-26T07:04:08.877331Z",
          "shell.execute_reply": "2022-04-26T07:04:08.876917Z"
        },
        "id": "EUz5g09mxO4I",
        "papermill": {
          "duration": 0.015968,
          "end_time": "2022-04-26T07:04:08.878627",
          "exception": false,
          "start_time": "2022-04-26T07:04:08.862659",
          "status": "completed"
        },
        "tags": []
      },
      "outputs": [],
      "source": [
        "from google.colab import drive\n",
        "drive.mount('/content/drive')"
      ],
      "id": "EUz5g09mxO4I"
    },
    {
      "cell_type": "code",
      "execution_count": null,
      "metadata": {
        "execution": {
          "iopub.execute_input": "2022-04-26T07:04:08.902160Z",
          "iopub.status.busy": "2022-04-26T07:04:08.902003Z",
          "iopub.status.idle": "2022-04-26T07:04:29.059934Z",
          "shell.execute_reply": "2022-04-26T07:04:29.059350Z"
        },
        "id": "Xc3IdQ5LlmJy",
        "papermill": {
          "duration": 20.172164,
          "end_time": "2022-04-26T07:04:29.061809",
          "exception": false,
          "start_time": "2022-04-26T07:04:08.889645",
          "status": "completed"
        },
        "tags": [],
        "outputId": "3593a8ed-66e9-4433-ca8b-0792dce36ca7"
      },
      "outputs": [
        {
          "name": "stderr",
          "output_type": "stream",
          "text": [
            "/home/starc52/miniconda3/envs/ohh_bhai/lib/python3.8/site-packages/tqdm/auto.py:22: TqdmWarning: IProgress not found. Please update jupyter and ipywidgets. See https://ipywidgets.readthedocs.io/en/stable/user_install.html\n",
            "  from .autonotebook import tqdm as notebook_tqdm\n"
          ]
        }
      ],
      "source": [
        "from transformers import BertTokenizer, BertModel\n",
        "import torch.optim as optim\n",
        "import pandas as pd\n",
        "import numpy as np\n",
        "from torchtext.legacy import data\n",
        "import torch\n",
        "import torch.nn as nn"
      ],
      "id": "Xc3IdQ5LlmJy"
    },
    {
      "cell_type": "code",
      "execution_count": null,
      "metadata": {
        "execution": {
          "iopub.execute_input": "2022-04-26T07:04:29.087040Z",
          "iopub.status.busy": "2022-04-26T07:04:29.086865Z",
          "iopub.status.idle": "2022-04-26T07:04:29.089486Z",
          "shell.execute_reply": "2022-04-26T07:04:29.089090Z"
        },
        "id": "BQ218bCYcyCS",
        "papermill": {
          "duration": 0.016133,
          "end_time": "2022-04-26T07:04:29.090814",
          "exception": false,
          "start_time": "2022-04-26T07:04:29.074681",
          "status": "completed"
        },
        "tags": []
      },
      "outputs": [],
      "source": [
        "max_len = 128\n",
        "MAX_LEN = 256"
      ],
      "id": "BQ218bCYcyCS"
    },
    {
      "cell_type": "code",
      "execution_count": null,
      "metadata": {
        "execution": {
          "iopub.execute_input": "2022-04-26T07:04:29.114936Z",
          "iopub.status.busy": "2022-04-26T07:04:29.114781Z",
          "iopub.status.idle": "2022-04-26T07:04:29.117548Z",
          "shell.execute_reply": "2022-04-26T07:04:29.117075Z"
        },
        "id": "IyKc_VwFltD5",
        "papermill": {
          "duration": 0.016233,
          "end_time": "2022-04-26T07:04:29.118836",
          "exception": false,
          "start_time": "2022-04-26T07:04:29.102603",
          "status": "completed"
        },
        "tags": []
      },
      "outputs": [],
      "source": [
        "def trim_sentence(sent):\n",
        "  curr_len = len(sent)\n",
        "  \n",
        "  sent = sent[:min(max_len, curr_len)]\n",
        "  return sent"
      ],
      "id": "IyKc_VwFltD5"
    },
    {
      "cell_type": "code",
      "execution_count": null,
      "metadata": {
        "execution": {
          "iopub.execute_input": "2022-04-26T07:04:29.143653Z",
          "iopub.status.busy": "2022-04-26T07:04:29.143487Z",
          "iopub.status.idle": "2022-04-26T07:04:29.146406Z",
          "shell.execute_reply": "2022-04-26T07:04:29.145980Z"
        },
        "id": "y83q__-sl_F1",
        "papermill": {
          "duration": 0.016623,
          "end_time": "2022-04-26T07:04:29.147665",
          "exception": false,
          "start_time": "2022-04-26T07:04:29.131042",
          "status": "completed"
        },
        "tags": []
      },
      "outputs": [],
      "source": [
        "def pad_sentence(sent, max_len):\n",
        "\n",
        "  padding = [0 for _ in range(len(max_len-len(sent)))]\n",
        "  padded_sent = sent.extend(padding)\n",
        "\n",
        "  return padded_sent"
      ],
      "id": "y83q__-sl_F1"
    },
    {
      "cell_type": "code",
      "execution_count": null,
      "metadata": {
        "execution": {
          "iopub.execute_input": "2022-04-26T07:04:29.173329Z",
          "iopub.status.busy": "2022-04-26T07:04:29.173036Z",
          "iopub.status.idle": "2022-04-26T07:04:29.175452Z",
          "shell.execute_reply": "2022-04-26T07:04:29.175086Z"
        },
        "id": "pwSTlHILmgXV",
        "papermill": {
          "duration": 0.016688,
          "end_time": "2022-04-26T07:04:29.176679",
          "exception": false,
          "start_time": "2022-04-26T07:04:29.159991",
          "status": "completed"
        },
        "tags": []
      },
      "outputs": [],
      "source": [
        "def get_attention(sent):\n",
        "\n",
        "  attention = [1]*len(sent)\n",
        "  return attention"
      ],
      "id": "pwSTlHILmgXV"
    },
    {
      "cell_type": "code",
      "execution_count": null,
      "metadata": {
        "execution": {
          "iopub.execute_input": "2022-04-26T07:04:29.201333Z",
          "iopub.status.busy": "2022-04-26T07:04:29.201169Z",
          "iopub.status.idle": "2022-04-26T07:04:29.203988Z",
          "shell.execute_reply": "2022-04-26T07:04:29.203592Z"
        },
        "id": "HVFCUNWjvQZK",
        "papermill": {
          "duration": 0.016411,
          "end_time": "2022-04-26T07:04:29.205288",
          "exception": false,
          "start_time": "2022-04-26T07:04:29.188877",
          "status": "completed"
        },
        "tags": []
      },
      "outputs": [],
      "source": [
        "def process_sent1(sent):\n",
        "  return [tokenizer.cls_token] + sent + [tokenizer.sep_token]\n",
        "\n",
        "def process_sent2(sent):\n",
        "  return sent + [tokenizer.sep_token]"
      ],
      "id": "HVFCUNWjvQZK"
    },
    {
      "cell_type": "code",
      "execution_count": null,
      "metadata": {
        "execution": {
          "iopub.execute_input": "2022-04-26T07:04:29.230614Z",
          "iopub.status.busy": "2022-04-26T07:04:29.230240Z",
          "iopub.status.idle": "2022-04-26T07:04:29.232982Z",
          "shell.execute_reply": "2022-04-26T07:04:29.232607Z"
        },
        "id": "AG_fm4AGuK0O",
        "papermill": {
          "duration": 0.016693,
          "end_time": "2022-04-26T07:04:29.234192",
          "exception": false,
          "start_time": "2022-04-26T07:04:29.217499",
          "status": "completed"
        },
        "tags": []
      },
      "outputs": [],
      "source": [
        "def get_sent1_token_id(sent):\n",
        "  return [0]*len(sent)\n",
        "\n",
        "def get_sent2_token_id(sent):\n",
        "  return [1]*len(sent)"
      ],
      "id": "AG_fm4AGuK0O"
    },
    {
      "cell_type": "code",
      "execution_count": null,
      "metadata": {
        "execution": {
          "iopub.execute_input": "2022-04-26T07:04:29.259082Z",
          "iopub.status.busy": "2022-04-26T07:04:29.258918Z",
          "iopub.status.idle": "2022-04-26T07:04:29.261613Z",
          "shell.execute_reply": "2022-04-26T07:04:29.261224Z"
        },
        "id": "9FLmZcIUXs91",
        "papermill": {
          "duration": 0.016556,
          "end_time": "2022-04-26T07:04:29.262863",
          "exception": false,
          "start_time": "2022-04-26T07:04:29.246307",
          "status": "completed"
        },
        "tags": []
      },
      "outputs": [],
      "source": [
        "def join_mask(mask):\n",
        "\n",
        "  mask = [str(i) for i in mask]\n",
        "  mask = \" \".join(mask)\n",
        "\n",
        "  return mask"
      ],
      "id": "9FLmZcIUXs91"
    },
    {
      "cell_type": "code",
      "execution_count": null,
      "metadata": {
        "execution": {
          "iopub.execute_input": "2022-04-26T07:04:29.288635Z",
          "iopub.status.busy": "2022-04-26T07:04:29.288457Z",
          "iopub.status.idle": "2022-04-26T07:04:29.290916Z",
          "shell.execute_reply": "2022-04-26T07:04:29.290540Z"
        },
        "id": "JOkwVXUadOWg",
        "papermill": {
          "duration": 0.016833,
          "end_time": "2022-04-26T07:04:29.292198",
          "exception": false,
          "start_time": "2022-04-26T07:04:29.275365",
          "status": "completed"
        },
        "tags": []
      },
      "outputs": [],
      "source": [
        "def tokenize_sent(sent):\n",
        "\n",
        "  tokens = tokenizer.tokenize(sent)\n",
        "  return tokens"
      ],
      "id": "JOkwVXUadOWg"
    },
    {
      "cell_type": "code",
      "execution_count": null,
      "metadata": {
        "execution": {
          "iopub.execute_input": "2022-04-26T07:04:29.318146Z",
          "iopub.status.busy": "2022-04-26T07:04:29.317969Z",
          "iopub.status.idle": "2022-04-26T07:04:29.321090Z",
          "shell.execute_reply": "2022-04-26T07:04:29.320720Z"
        },
        "id": "JZQyjdHGhQYZ",
        "papermill": {
          "duration": 0.017369,
          "end_time": "2022-04-26T07:04:29.322347",
          "exception": false,
          "start_time": "2022-04-26T07:04:29.304978",
          "status": "completed"
        },
        "tags": []
      },
      "outputs": [],
      "source": [
        "def join_seq(sent):\n",
        "  return \" \".join(sent)\n",
        "\n",
        "def join_mask(sent):\n",
        "  if type(sent)!=list:\n",
        "    sent = [1]\n",
        "  tmp = [str(val) for val in sent]\n",
        "  return \" \".join(tmp)"
      ],
      "id": "JZQyjdHGhQYZ"
    },
    {
      "cell_type": "code",
      "execution_count": null,
      "metadata": {
        "execution": {
          "iopub.execute_input": "2022-04-26T07:04:29.347507Z",
          "iopub.status.busy": "2022-04-26T07:04:29.347343Z",
          "iopub.status.idle": "2022-04-26T07:04:29.351845Z",
          "shell.execute_reply": "2022-04-26T07:04:29.351477Z"
        },
        "id": "SS2mak8gsizm",
        "papermill": {
          "duration": 0.018532,
          "end_time": "2022-04-26T07:04:29.353133",
          "exception": false,
          "start_time": "2022-04-26T07:04:29.334601",
          "status": "completed"
        },
        "tags": []
      },
      "outputs": [],
      "source": [
        "def get_bert_format(df):\n",
        "\n",
        "  tokens1 = df[\"sentence1\"].apply(tokenize_sent)\n",
        "  tokens2 = df[\"sentence2\"].apply(tokenize_sent)\n",
        "\n",
        "  tokens1 = tokens1.apply(trim_sentence)\n",
        "  tokens2 = tokens2.apply(trim_sentence)\n",
        "\n",
        "  tokens1 = tokens1.apply(process_sent1)\n",
        "  tokens2 = tokens2.apply(process_sent2)\n",
        "    \n",
        "  df[\"token_ids1\"] = tokens1.apply(get_sent1_token_id)\n",
        "  df[\"token_ids2\"] = tokens2.apply(get_sent2_token_id)\n",
        "  df[\"token_ids\"] = df[\"token_ids1\"] + df[\"token_ids2\"]\n",
        "\n",
        "  df[\"tmp_tokens\"] = tokens1+tokens2\n",
        "  df[\"attention_sent\"] = df[\"tmp_tokens\"].apply(get_attention)\n",
        "\n",
        "  df[\"tokens\"] = df[\"tmp_tokens\"].apply(join_seq)\n",
        "\n",
        "  df[\"attention_sent\"] = df[\"attention_sent\"].apply(join_mask)\n",
        "  df[\"token_ids\"] = df[\"token_ids\"].apply(join_mask)\n",
        "\n",
        "  return df[\"tokens\"], df[\"attention_sent\"], df[\"token_ids\"]"
      ],
      "id": "SS2mak8gsizm"
    },
    {
      "cell_type": "code",
      "execution_count": null,
      "metadata": {
        "execution": {
          "iopub.execute_input": "2022-04-26T07:04:41.122844Z",
          "iopub.status.busy": "2022-04-26T07:04:41.122663Z",
          "iopub.status.idle": "2022-04-26T07:04:41.125363Z",
          "shell.execute_reply": "2022-04-26T07:04:41.124974Z"
        },
        "id": "2w6SjIiny59S",
        "papermill": {
          "duration": 0.017393,
          "end_time": "2022-04-26T07:04:41.126651",
          "exception": false,
          "start_time": "2022-04-26T07:04:41.109258",
          "status": "completed"
        },
        "tags": []
      },
      "outputs": [],
      "source": [
        "train_data = pd.read_csv(\"/content/drive/MyDrive/snli_1.0/snli_1.0/snli_1.0_train.txt\", sep=\"\\t\")\n",
        "train_data = train_data[[\"sentence1\", \"sentence2\", \"gold_label\"]]\n",
        "\n",
        "val_data = pd.read_csv(\"/content/drive/MyDrive/snli_1.0/snli_1.0/snli_1.0_dev.txt\", sep=\"\\t\")\n",
        "val_data = val_data[[\"sentence1\", \"sentence2\", \"gold_label\"]]\n",
        "\n",
        "test_data = pd.read_csv(\"/content/drive/MyDrive/snli_1.0/snli_1.0/snli_1.0_test.txt\", sep=\"\\t\")\n",
        "test_data = test_data[[\"sentence1\", \"sentence2\", \"gold_label\"]]"
      ],
      "id": "2w6SjIiny59S"
    },
    {
      "cell_type": "code",
      "execution_count": null,
      "metadata": {
        "execution": {
          "iopub.execute_input": "2022-04-26T07:04:41.153007Z",
          "iopub.status.busy": "2022-04-26T07:04:41.152695Z",
          "iopub.status.idle": "2022-04-26T07:04:41.154764Z",
          "shell.execute_reply": "2022-04-26T07:04:41.154390Z"
        },
        "id": "hGhcHlXZ4MCx",
        "papermill": {
          "duration": 0.016677,
          "end_time": "2022-04-26T07:04:41.156062",
          "exception": false,
          "start_time": "2022-04-26T07:04:41.139385",
          "status": "completed"
        },
        "tags": []
      },
      "outputs": [],
      "source": [
        "train_data = train_data.dropna(axis=0, how='any')\n",
        "val_data = val_data.dropna(axis=0, how='any')\n",
        "test_data = test_data.dropna(axis=0, how='any')"
      ],
      "id": "hGhcHlXZ4MCx"
    },
    {
      "cell_type": "code",
      "execution_count": null,
      "metadata": {
        "execution": {
          "iopub.execute_input": "2022-04-26T07:04:41.181589Z",
          "iopub.status.busy": "2022-04-26T07:04:41.181434Z",
          "iopub.status.idle": "2022-04-26T07:04:41.183628Z",
          "shell.execute_reply": "2022-04-26T07:04:41.183234Z"
        },
        "id": "pBzTmnmlErSd",
        "papermill": {
          "duration": 0.01651,
          "end_time": "2022-04-26T07:04:41.184879",
          "exception": false,
          "start_time": "2022-04-26T07:04:41.168369",
          "status": "completed"
        },
        "tags": []
      },
      "outputs": [],
      "source": [
        "train_data[\"tokens\"], train_data[\"attention_sent\"], train_data[\"token_ids\"] = get_bert_format(train_data)\n",
        "train_data = train_data[[\"tokens\", \"attention_sent\", \"token_ids\", \"gold_label\"]]"
      ],
      "id": "pBzTmnmlErSd"
    },
    {
      "cell_type": "code",
      "execution_count": null,
      "metadata": {
        "execution": {
          "iopub.execute_input": "2022-04-26T07:04:41.211354Z",
          "iopub.status.busy": "2022-04-26T07:04:41.211055Z",
          "iopub.status.idle": "2022-04-26T07:04:41.213106Z",
          "shell.execute_reply": "2022-04-26T07:04:41.212736Z"
        },
        "id": "pfEB4zrZEz_u",
        "papermill": {
          "duration": 0.016521,
          "end_time": "2022-04-26T07:04:41.214355",
          "exception": false,
          "start_time": "2022-04-26T07:04:41.197834",
          "status": "completed"
        },
        "tags": []
      },
      "outputs": [],
      "source": [
        "val_data[\"tokens\"], val_data[\"attention_sent\"], val_data[\"token_ids\"] = get_bert_format(val_data)\n",
        "val_data = val_data[[\"tokens\", \"attention_sent\", \"token_ids\", \"gold_label\"]]"
      ],
      "id": "pfEB4zrZEz_u"
    },
    {
      "cell_type": "code",
      "execution_count": null,
      "metadata": {
        "execution": {
          "iopub.execute_input": "2022-04-26T07:04:41.240183Z",
          "iopub.status.busy": "2022-04-26T07:04:41.240028Z",
          "iopub.status.idle": "2022-04-26T07:04:41.242187Z",
          "shell.execute_reply": "2022-04-26T07:04:41.241794Z"
        },
        "id": "QLi3OPLhBgLA",
        "papermill": {
          "duration": 0.016496,
          "end_time": "2022-04-26T07:04:41.243445",
          "exception": false,
          "start_time": "2022-04-26T07:04:41.226949",
          "status": "completed"
        },
        "tags": []
      },
      "outputs": [],
      "source": [
        "test_data[\"tokens\"], test_data[\"attention_sent\"], test_data[\"token_ids\"] = get_bert_format(test_data)\n",
        "test_data = test_data[[\"tokens\", \"attention_sent\", \"token_ids\", \"gold_label\"]]"
      ],
      "id": "QLi3OPLhBgLA"
    },
    {
      "cell_type": "code",
      "execution_count": null,
      "metadata": {
        "execution": {
          "iopub.execute_input": "2022-04-26T07:04:41.270599Z",
          "iopub.status.busy": "2022-04-26T07:04:41.270282Z",
          "iopub.status.idle": "2022-04-26T07:04:41.272359Z",
          "shell.execute_reply": "2022-04-26T07:04:41.271990Z"
        },
        "id": "u_EmNFg4_Xj2",
        "papermill": {
          "duration": 0.016914,
          "end_time": "2022-04-26T07:04:41.273572",
          "exception": false,
          "start_time": "2022-04-26T07:04:41.256658",
          "status": "completed"
        },
        "tags": []
      },
      "outputs": [],
      "source": [
        "train_data = train_data[train_data.gold_labels!=\"-\"]\n",
        "val_data = val_data[val_data.gold_labels!=\"-\"]\n",
        "test_data = test_data[test_data.gold_labels!=\"-\"]"
      ],
      "id": "u_EmNFg4_Xj2"
    },
    {
      "cell_type": "code",
      "execution_count": null,
      "metadata": {
        "execution": {
          "iopub.execute_input": "2022-04-26T07:04:41.299569Z",
          "iopub.status.busy": "2022-04-26T07:04:41.299403Z",
          "iopub.status.idle": "2022-04-26T07:04:41.301678Z",
          "shell.execute_reply": "2022-04-26T07:04:41.301288Z"
        },
        "id": "QulxAwXqDxCh",
        "papermill": {
          "duration": 0.01662,
          "end_time": "2022-04-26T07:04:41.302906",
          "exception": false,
          "start_time": "2022-04-26T07:04:41.286286",
          "status": "completed"
        },
        "tags": []
      },
      "outputs": [],
      "source": [
        "train_data.to_csv('/content/drive/MyDrive/snli_1.0/snli_1.0/updated_train.csv', index=False)\n",
        "val_data.to_csv('/content/drive/MyDrive/snli_1.0/snli_1.0/updated_val.csv', index=False)\n",
        "test_data.to_csv('/content/drive/MyDrive/snli_1.0/snli_1.0/updated_test.csv', index=False)"
      ],
      "id": "QulxAwXqDxCh"
    }
  ],
  "metadata": {
    "accelerator": "TPU",
    "colab": {
      "collapsed_sections": [],
      "name": "NLI_Preprocessing.ipynb",
      "provenance": []
    },
    "kernelspec": {
      "display_name": "Python 3",
      "language": "python",
      "name": "python3"
    },
    "language_info": {
      "codemirror_mode": {
        "name": "ipython",
        "version": 3
      },
      "file_extension": ".py",
      "mimetype": "text/x-python",
      "name": "python",
      "nbconvert_exporter": "python",
      "pygments_lexer": "ipython3",
      "version": "3.5.2"
    },
    "papermill": {
      "default_parameters": {},
      "duration": 214442.828906,
      "end_time": "2022-04-28T18:38:04.255448",
      "environment_variables": {},
      "exception": null,
      "input_path": "/home/starc52/NLP.ipynb",
      "output_path": "/home/starc52/abhi/out.ipynb",
      "parameters": {},
      "start_time": "2022-04-26T07:04:01.426542",
      "version": "2.3.4"
    }
  },
  "nbformat": 4,
  "nbformat_minor": 5
}