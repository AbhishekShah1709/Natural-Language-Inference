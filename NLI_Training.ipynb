{
  "cells": [
    {
      "cell_type": "code",
      "execution_count": null,
      "metadata": {
        "colab": {
          "base_uri": "https://localhost:8080/"
        },
        "execution": {
          "iopub.execute_input": "2022-04-26T07:04:05.504987Z",
          "iopub.status.busy": "2022-04-26T07:04:05.504720Z",
          "iopub.status.idle": "2022-04-26T07:04:08.846922Z",
          "shell.execute_reply": "2022-04-26T07:04:08.846304Z"
        },
        "id": "rb4JURvvkXTY",
        "outputId": "2a065ad3-a16d-4005-960d-b1c5f7f096d1",
        "papermill": {
          "duration": 3.358728,
          "end_time": "2022-04-26T07:04:08.848871",
          "exception": false,
          "start_time": "2022-04-26T07:04:05.490143",
          "status": "completed"
        },
        "tags": []
      },
      "outputs": [
        {
          "name": "stdout",
          "output_type": "stream",
          "text": [
            "Looking in indexes: https://pypi.org/simple, https://packagecloud.io/github/git-lfs/pypi/simple\n",
            "Requirement already satisfied: transformers in ./miniconda3/envs/ohh_bhai/lib/python3.8/site-packages (4.18.0)\n",
            "Requirement already satisfied: numpy>=1.17 in ./miniconda3/envs/ohh_bhai/lib/python3.8/site-packages (from transformers) (1.19.1)\n",
            "Requirement already satisfied: pyyaml>=5.1 in ./miniconda3/envs/ohh_bhai/lib/python3.8/site-packages (from transformers) (5.4.1)\n",
            "Requirement already satisfied: tqdm>=4.27 in ./miniconda3/envs/ohh_bhai/lib/python3.8/site-packages (from transformers) (4.64.0)\n",
            "Requirement already satisfied: huggingface-hub<1.0,>=0.1.0 in ./miniconda3/envs/ohh_bhai/lib/python3.8/site-packages (from transformers) (0.5.1)\n",
            "Requirement already satisfied: filelock in ./miniconda3/envs/ohh_bhai/lib/python3.8/site-packages (from transformers) (3.6.0)\n",
            "Requirement already satisfied: tokenizers!=0.11.3,<0.13,>=0.11.1 in ./miniconda3/envs/ohh_bhai/lib/python3.8/site-packages (from transformers) (0.11.6)\n",
            "Requirement already satisfied: packaging>=20.0 in ./miniconda3/envs/ohh_bhai/lib/python3.8/site-packages (from transformers) (21.3)\n",
            "Requirement already satisfied: sacremoses in ./miniconda3/envs/ohh_bhai/lib/python3.8/site-packages (from transformers) (0.0.49)\n",
            "Requirement already satisfied: regex!=2019.12.17 in ./miniconda3/envs/ohh_bhai/lib/python3.8/site-packages (from transformers) (2022.3.15)\n",
            "Requirement already satisfied: requests in ./miniconda3/envs/ohh_bhai/lib/python3.8/site-packages (from transformers) (2.24.0)\n",
            "Requirement already satisfied: typing-extensions>=3.7.4.3 in ./miniconda3/envs/ohh_bhai/lib/python3.8/site-packages (from huggingface-hub<1.0,>=0.1.0->transformers) (4.1.1)\n",
            "Requirement already satisfied: pyparsing!=3.0.5,>=2.0.2 in ./miniconda3/envs/ohh_bhai/lib/python3.8/site-packages (from packaging>=20.0->transformers) (3.0.4)\n",
            "Requirement already satisfied: chardet<4,>=3.0.2 in ./miniconda3/envs/ohh_bhai/lib/python3.8/site-packages (from requests->transformers) (3.0.4)\n",
            "Requirement already satisfied: urllib3!=1.25.0,!=1.25.1,<1.26,>=1.21.1 in ./miniconda3/envs/ohh_bhai/lib/python3.8/site-packages (from requests->transformers) (1.25.11)\n",
            "Requirement already satisfied: certifi>=2017.4.17 in ./miniconda3/envs/ohh_bhai/lib/python3.8/site-packages (from requests->transformers) (2021.10.8)\n",
            "Requirement already satisfied: idna<3,>=2.5 in ./miniconda3/envs/ohh_bhai/lib/python3.8/site-packages (from requests->transformers) (2.10)\n",
            "Requirement already satisfied: six in ./miniconda3/envs/ohh_bhai/lib/python3.8/site-packages (from sacremoses->transformers) (1.15.0)\n",
            "Requirement already satisfied: click in ./miniconda3/envs/ohh_bhai/lib/python3.8/site-packages (from sacremoses->transformers) (7.1.2)\n",
            "Requirement already satisfied: joblib in ./miniconda3/envs/ohh_bhai/lib/python3.8/site-packages (from sacremoses->transformers) (1.1.0)\n"
          ]
        }
      ],
      "source": [
        "!pip install transformers"
      ],
      "id": "rb4JURvvkXTY"
    },
    {
      "cell_type": "code",
      "execution_count": null,
      "metadata": {
        "execution": {
          "iopub.execute_input": "2022-04-26T07:04:08.874963Z",
          "iopub.status.busy": "2022-04-26T07:04:08.874783Z",
          "iopub.status.idle": "2022-04-26T07:04:08.877331Z",
          "shell.execute_reply": "2022-04-26T07:04:08.876917Z"
        },
        "id": "EUz5g09mxO4I",
        "papermill": {
          "duration": 0.015968,
          "end_time": "2022-04-26T07:04:08.878627",
          "exception": false,
          "start_time": "2022-04-26T07:04:08.862659",
          "status": "completed"
        },
        "tags": []
      },
      "outputs": [],
      "source": [
        "from google.colab import drive\n",
        "drive.mount('/content/drive')"
      ],
      "id": "EUz5g09mxO4I"
    },
    {
      "cell_type": "code",
      "execution_count": null,
      "metadata": {
        "execution": {
          "iopub.execute_input": "2022-04-26T07:04:08.902160Z",
          "iopub.status.busy": "2022-04-26T07:04:08.902003Z",
          "iopub.status.idle": "2022-04-26T07:04:29.059934Z",
          "shell.execute_reply": "2022-04-26T07:04:29.059350Z"
        },
        "id": "Xc3IdQ5LlmJy",
        "papermill": {
          "duration": 20.172164,
          "end_time": "2022-04-26T07:04:29.061809",
          "exception": false,
          "start_time": "2022-04-26T07:04:08.889645",
          "status": "completed"
        },
        "tags": [],
        "outputId": "3593a8ed-66e9-4433-ca8b-0792dce36ca7"
      },
      "outputs": [
        {
          "name": "stderr",
          "output_type": "stream",
          "text": [
            "/home/starc52/miniconda3/envs/ohh_bhai/lib/python3.8/site-packages/tqdm/auto.py:22: TqdmWarning: IProgress not found. Please update jupyter and ipywidgets. See https://ipywidgets.readthedocs.io/en/stable/user_install.html\n",
            "  from .autonotebook import tqdm as notebook_tqdm\n"
          ]
        }
      ],
      "source": [
        "from transformers import BertTokenizer, BertModel\n",
        "import torch.optim as optim\n",
        "import pandas as pd\n",
        "import numpy as np\n",
        "from torchtext.legacy import data\n",
        "import torch\n",
        "import torch.nn as nn"
      ],
      "id": "Xc3IdQ5LlmJy"
    },
    {
      "cell_type": "code",
      "execution_count": null,
      "metadata": {
        "execution": {
          "iopub.execute_input": "2022-04-26T07:04:29.087040Z",
          "iopub.status.busy": "2022-04-26T07:04:29.086865Z",
          "iopub.status.idle": "2022-04-26T07:04:29.089486Z",
          "shell.execute_reply": "2022-04-26T07:04:29.089090Z"
        },
        "id": "BQ218bCYcyCS",
        "papermill": {
          "duration": 0.016133,
          "end_time": "2022-04-26T07:04:29.090814",
          "exception": false,
          "start_time": "2022-04-26T07:04:29.074681",
          "status": "completed"
        },
        "tags": []
      },
      "outputs": [],
      "source": [
        "max_len = 128\n",
        "MAX_LEN = 256"
      ],
      "id": "BQ218bCYcyCS"
    },
    {
      "cell_type": "code",
      "source": [
        "tokenizer = BertTokenizer.from_pretrained('bert-base-uncased')\n",
        "bert_model = BertModel.from_pretrained('bert-base-uncased')"
      ],
      "metadata": {
        "id": "NQjHhRAKlp9w"
      },
      "id": "NQjHhRAKlp9w",
      "execution_count": null,
      "outputs": []
    },
    {
      "cell_type": "code",
      "execution_count": null,
      "metadata": {
        "execution": {
          "iopub.execute_input": "2022-04-26T07:04:41.328776Z",
          "iopub.status.busy": "2022-04-26T07:04:41.328596Z",
          "iopub.status.idle": "2022-04-26T07:04:41.332284Z",
          "shell.execute_reply": "2022-04-26T07:04:41.331896Z"
        },
        "id": "NXiRzM35DPzx",
        "papermill": {
          "duration": 0.017911,
          "end_time": "2022-04-26T07:04:41.333548",
          "exception": false,
          "start_time": "2022-04-26T07:04:41.315637",
          "status": "completed"
        },
        "tags": []
      },
      "outputs": [],
      "source": [
        "def split_and_cut(sentence):\n",
        "  tokens = sentence.strip().split(\" \")\n",
        "  tokens = tokens[:MAX_LEN]\n",
        "  return tokens\n",
        "\n",
        "def convert_to_int(tok_ids):\n",
        "  tok_ids = [int(x) for x in tok_ids]\n",
        "  return tok_ids\n",
        "\n",
        "cls_token_idx = tokenizer.cls_token_id\n",
        "sep_token_idx = tokenizer.sep_token_id\n",
        "pad_token_idx = tokenizer.pad_token_id\n",
        "unk_token_idx = tokenizer.unk_token_id"
      ],
      "id": "NXiRzM35DPzx"
    },
    {
      "cell_type": "code",
      "execution_count": null,
      "metadata": {
        "execution": {
          "iopub.execute_input": "2022-04-26T07:04:41.359453Z",
          "iopub.status.busy": "2022-04-26T07:04:41.359299Z",
          "iopub.status.idle": "2022-04-26T07:04:41.362986Z",
          "shell.execute_reply": "2022-04-26T07:04:41.362609Z"
        },
        "id": "nnnpm-aYC1ia",
        "papermill": {
          "duration": 0.018072,
          "end_time": "2022-04-26T07:04:41.364283",
          "exception": false,
          "start_time": "2022-04-26T07:04:41.346211",
          "status": "completed"
        },
        "tags": []
      },
      "outputs": [],
      "source": [
        "#For sequence\n",
        "TEXT = data.Field(batch_first = True,\n",
        "                  use_vocab = False,\n",
        "                  tokenize = split_and_cut,\n",
        "                  preprocessing = tokenizer.convert_tokens_to_ids,\n",
        "                  pad_token = pad_token_idx,\n",
        "                  unk_token = unk_token_idx)\n",
        "#For Attention mask\n",
        "ATTENTION = data.Field(batch_first = True,\n",
        "                  use_vocab = False,\n",
        "                  tokenize = split_and_cut,\n",
        "                  preprocessing = convert_to_int,\n",
        "                  pad_token = pad_token_idx)\n",
        "#For token type ids\n",
        "TTYPE = data.Field(batch_first = True,\n",
        "                  use_vocab = False,\n",
        "                  tokenize = split_and_cut,\n",
        "                  preprocessing = convert_to_int,\n",
        "                  pad_token = 1)\n",
        "\n",
        "#For label\n",
        "LABEL = data.LabelField()"
      ],
      "id": "nnnpm-aYC1ia"
    },
    {
      "cell_type": "code",
      "execution_count": null,
      "metadata": {
        "execution": {
          "iopub.execute_input": "2022-04-26T07:04:41.390985Z",
          "iopub.status.busy": "2022-04-26T07:04:41.390707Z",
          "iopub.status.idle": "2022-04-26T07:04:41.393330Z",
          "shell.execute_reply": "2022-04-26T07:04:41.392947Z"
        },
        "id": "ygV7cHguC2_e",
        "papermill": {
          "duration": 0.017214,
          "end_time": "2022-04-26T07:04:41.394599",
          "exception": false,
          "start_time": "2022-04-26T07:04:41.377385",
          "status": "completed"
        },
        "tags": []
      },
      "outputs": [],
      "source": [
        "fields = [('tokens', TEXT), ('attention_sent', ATTENTION), ('token_ids', TTYPE), ('gold_label', LABEL)]"
      ],
      "id": "ygV7cHguC2_e"
    },
    {
      "cell_type": "code",
      "execution_count": null,
      "metadata": {
        "execution": {
          "iopub.execute_input": "2022-04-26T07:04:41.421100Z",
          "iopub.status.busy": "2022-04-26T07:04:41.420853Z",
          "iopub.status.idle": "2022-04-26T07:04:41.423273Z",
          "shell.execute_reply": "2022-04-26T07:04:41.422878Z"
        },
        "id": "zxa89O1SD3YO",
        "papermill": {
          "duration": 0.016801,
          "end_time": "2022-04-26T07:04:41.424564",
          "exception": false,
          "start_time": "2022-04-26T07:04:41.407763",
          "status": "completed"
        },
        "tags": []
      },
      "outputs": [],
      "source": [
        "train_data, valid_data, test_data = data.TabularDataset.splits(\n",
        "                                        path = '/content/drive/MyDrive/snli_1.0/snli_1.0/',\n",
        "                                        train = 'updated_train.csv',\n",
        "                                        validation = 'updated_val.csv',\n",
        "                                        test = 'updated_test.csv',\n",
        "                                        format = 'csv',\n",
        "                                        fields = fields,\n",
        "                                        skip_header = True)"
      ],
      "id": "zxa89O1SD3YO"
    },
    {
      "cell_type": "code",
      "execution_count": null,
      "metadata": {
        "execution": {
          "iopub.execute_input": "2022-04-26T07:05:03.463934Z",
          "iopub.status.busy": "2022-04-26T07:05:03.463769Z",
          "iopub.status.idle": "2022-04-26T07:05:03.907171Z",
          "shell.execute_reply": "2022-04-26T07:05:03.906637Z"
        },
        "id": "8PEKIrIlZ12Z",
        "papermill": {
          "duration": 0.457502,
          "end_time": "2022-04-26T07:05:03.908385",
          "exception": false,
          "start_time": "2022-04-26T07:05:03.450883",
          "status": "completed"
        },
        "tags": []
      },
      "outputs": [],
      "source": [
        "LABEL.build_vocab(train_data)"
      ],
      "id": "8PEKIrIlZ12Z"
    },
    {
      "cell_type": "code",
      "execution_count": null,
      "metadata": {
        "execution": {
          "iopub.execute_input": "2022-04-26T07:05:03.932948Z",
          "iopub.status.busy": "2022-04-26T07:05:03.932785Z",
          "iopub.status.idle": "2022-04-26T07:05:03.936429Z",
          "shell.execute_reply": "2022-04-26T07:05:03.936028Z"
        },
        "id": "QeW5WLK3Vd9X",
        "papermill": {
          "duration": 0.017279,
          "end_time": "2022-04-26T07:05:03.937620",
          "exception": false,
          "start_time": "2022-04-26T07:05:03.920341",
          "status": "completed"
        },
        "tags": []
      },
      "outputs": [],
      "source": [
        "BATCH_SIZE = 32\n",
        "device = torch.device('cuda' if torch.cuda.is_available() else 'cpu')\n",
        "\n",
        "train_iterator, valid_iterator, test_iterator = data.BucketIterator.splits(\n",
        "    (train_data, valid_data, test_data), \n",
        "    batch_size = BATCH_SIZE,\n",
        "    sort = False,\n",
        "    # sort_key = lambda x: len(x.sequence),\n",
        "    sort_within_batch = False, \n",
        "    device = device)"
      ],
      "id": "QeW5WLK3Vd9X"
    },
    {
      "cell_type": "code",
      "execution_count": null,
      "metadata": {
        "execution": {
          "iopub.execute_input": "2022-04-26T07:05:03.963490Z",
          "iopub.status.busy": "2022-04-26T07:05:03.963238Z",
          "iopub.status.idle": "2022-04-26T07:05:03.967539Z",
          "shell.execute_reply": "2022-04-26T07:05:03.967168Z"
        },
        "id": "uSLO9qQiCPOA",
        "papermill": {
          "duration": 0.019031,
          "end_time": "2022-04-26T07:05:03.968913",
          "exception": false,
          "start_time": "2022-04-26T07:05:03.949882",
          "status": "completed"
        },
        "tags": []
      },
      "outputs": [],
      "source": [
        "class NLIModel(nn.Module):\n",
        "\n",
        "  def __init__(self, model, hidden_neurons1, hidden_neurons2, output_neurons):\n",
        "    super().__init__()\n",
        "    self.model = model\n",
        "    feature_vec = model.config.to_dict()['hidden_size']\n",
        "    self.dense = nn.Linear(feature_vec, output_neurons)\n",
        "\n",
        "  def forward(self, tokens, attention_mask, token_type):\n",
        "\n",
        "    x = self.model(input_ids = tokens, attention_mask = attention_mask, token_type_ids= token_type)[1]\n",
        "    y = self.dense(x)\n",
        "\n",
        "    return y"
      ],
      "id": "uSLO9qQiCPOA"
    },
    {
      "cell_type": "code",
      "execution_count": null,
      "metadata": {
        "execution": {
          "iopub.execute_input": "2022-04-26T07:05:03.993426Z",
          "iopub.status.busy": "2022-04-26T07:05:03.993183Z",
          "iopub.status.idle": "2022-04-26T07:05:03.997214Z",
          "shell.execute_reply": "2022-04-26T07:05:03.996852Z"
        },
        "id": "Ow43XFy5U3X7",
        "papermill": {
          "duration": 0.017555,
          "end_time": "2022-04-26T07:05:03.998403",
          "exception": false,
          "start_time": "2022-04-26T07:05:03.980848",
          "status": "completed"
        },
        "tags": []
      },
      "outputs": [],
      "source": [
        "nli_model = NLIModel(bert_model, 1024, 128, 3)\n",
        "opt = optim.Adam(nli_model.parameters(), lr=2e-5, eps=1e-6)\n",
        "loss_fnc = nn.CrossEntropyLoss().to(device)"
      ],
      "id": "Ow43XFy5U3X7"
    },
    {
      "cell_type": "code",
      "execution_count": null,
      "metadata": {
        "execution": {
          "iopub.execute_input": "2022-04-26T07:05:04.052522Z",
          "iopub.status.busy": "2022-04-26T07:05:04.052276Z",
          "iopub.status.idle": "2022-04-26T07:05:04.054473Z",
          "shell.execute_reply": "2022-04-26T07:05:04.054106Z"
        },
        "id": "SnN3nu9B4aiy",
        "papermill": {
          "duration": 0.016147,
          "end_time": "2022-04-26T07:05:04.055670",
          "exception": false,
          "start_time": "2022-04-26T07:05:04.039523",
          "status": "completed"
        },
        "tags": []
      },
      "outputs": [],
      "source": [
        "PATH = '/content/drive/MyDrive/snli_1.0/snli_1.0/latest_10000' ## Path where you want to store the model\n",
        "PATH2 = \"/content/drive/MyDrive/snli_1.0/snli_1.0/final_model\""
      ],
      "id": "SnN3nu9B4aiy"
    },
    {
      "cell_type": "code",
      "execution_count": null,
      "metadata": {
        "execution": {
          "iopub.execute_input": "2022-04-26T07:05:04.080447Z",
          "iopub.status.busy": "2022-04-26T07:05:04.080280Z",
          "iopub.status.idle": "2022-04-28T15:37:24.334306Z",
          "shell.execute_reply": "2022-04-28T15:37:24.332979Z"
        },
        "id": "gdngAKhwVzww",
        "papermill": {
          "duration": 203540.2708,
          "end_time": "2022-04-28T15:37:24.338560",
          "exception": false,
          "start_time": "2022-04-26T07:05:04.067760",
          "status": "completed"
        },
        "tags": []
      },
      "outputs": [],
      "source": [
        "lossHist = []\n",
        "tot_example = 0\n",
        "\n",
        "for epoch in range(6):\n",
        "  for batch in train_iterator:\n",
        "    opt.zero_grad()\n",
        "    torch.cuda.empty_cache()\n",
        "\n",
        "    sequence = batch.tokens\n",
        "    attn_mask = batch.attention_sent\n",
        "    token_type = batch.token_ids\n",
        "    label = batch.gold_label\n",
        "\n",
        "    predictions = nli_model(sequence, attn_mask, token_type)\n",
        "    loss = loss_fnc(predictions, label)\n",
        "\n",
        "    loss.backward()\n",
        "    opt.step()\n",
        "\n",
        "    tot_example += len(batch)\n",
        "    \n",
        "    if tot_example%30000==0:\n",
        "        torch.save(nli_model.state_dict(), PATH)\n",
        "\n",
        "  lossHist.append(loss.item())"
      ],
      "id": "gdngAKhwVzww"
    },
    {
      "cell_type": "code",
      "execution_count": null,
      "metadata": {
        "execution": {
          "iopub.execute_input": "2022-04-28T15:37:24.480663Z",
          "iopub.status.busy": "2022-04-28T15:37:24.480145Z",
          "iopub.status.idle": "2022-04-28T15:37:24.485651Z",
          "shell.execute_reply": "2022-04-28T15:37:24.484949Z"
        },
        "papermill": {
          "duration": 0.048617,
          "end_time": "2022-04-28T15:37:24.487884",
          "exception": false,
          "start_time": "2022-04-28T15:37:24.439267",
          "status": "completed"
        },
        "tags": [],
        "id": "AGoNsvY_k-QN",
        "outputId": "96602c15-54df-47a0-e71a-50b6899912a4"
      },
      "outputs": [
        {
          "name": "stdout",
          "output_type": "stream",
          "text": [
            "[0.31172987818717957, 0.15210573375225067, 0.1463630497455597, 0.02814902365207672, 0.020347703248262405, 0.1457570195198059]\n"
          ]
        }
      ],
      "source": [
        "print(lossHist)"
      ],
      "id": "AGoNsvY_k-QN"
    },
    {
      "cell_type": "code",
      "execution_count": null,
      "metadata": {
        "execution": {
          "iopub.execute_input": "2022-04-28T15:37:24.514549Z",
          "iopub.status.busy": "2022-04-28T15:37:24.514100Z",
          "iopub.status.idle": "2022-04-28T15:37:28.906653Z",
          "shell.execute_reply": "2022-04-28T15:37:28.906042Z"
        },
        "papermill": {
          "duration": 4.407463,
          "end_time": "2022-04-28T15:37:28.908242",
          "exception": false,
          "start_time": "2022-04-28T15:37:24.500779",
          "status": "completed"
        },
        "tags": [],
        "id": "_7fZsFjPk-QN"
      },
      "outputs": [],
      "source": [
        "torch.save(nli_model.state_dict(), PATH2)"
      ],
      "id": "_7fZsFjPk-QN"
    }
  ],
  "metadata": {
    "accelerator": "TPU",
    "colab": {
      "collapsed_sections": [],
      "name": "NLI_Training.ipynb",
      "provenance": []
    },
    "kernelspec": {
      "display_name": "Python 3",
      "language": "python",
      "name": "python3"
    },
    "language_info": {
      "codemirror_mode": {
        "name": "ipython",
        "version": 3
      },
      "file_extension": ".py",
      "mimetype": "text/x-python",
      "name": "python",
      "nbconvert_exporter": "python",
      "pygments_lexer": "ipython3",
      "version": "3.5.2"
    },
    "papermill": {
      "default_parameters": {},
      "duration": 214442.828906,
      "end_time": "2022-04-28T18:38:04.255448",
      "environment_variables": {},
      "exception": null,
      "input_path": "/home/starc52/NLP.ipynb",
      "output_path": "/home/starc52/abhi/out.ipynb",
      "parameters": {},
      "start_time": "2022-04-26T07:04:01.426542",
      "version": "2.3.4"
    }
  },
  "nbformat": 4,
  "nbformat_minor": 5
}