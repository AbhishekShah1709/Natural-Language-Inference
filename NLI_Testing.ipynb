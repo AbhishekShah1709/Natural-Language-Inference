{
  "cells": [
    {
      "cell_type": "code",
      "execution_count": null,
      "metadata": {
        "colab": {
          "base_uri": "https://localhost:8080/"
        },
        "execution": {
          "iopub.execute_input": "2022-04-26T07:04:05.504987Z",
          "iopub.status.busy": "2022-04-26T07:04:05.504720Z",
          "iopub.status.idle": "2022-04-26T07:04:08.846922Z",
          "shell.execute_reply": "2022-04-26T07:04:08.846304Z"
        },
        "id": "rb4JURvvkXTY",
        "outputId": "2a065ad3-a16d-4005-960d-b1c5f7f096d1",
        "papermill": {
          "duration": 3.358728,
          "end_time": "2022-04-26T07:04:08.848871",
          "exception": false,
          "start_time": "2022-04-26T07:04:05.490143",
          "status": "completed"
        },
        "tags": []
      },
      "outputs": [
        {
          "name": "stdout",
          "output_type": "stream",
          "text": [
            "Looking in indexes: https://pypi.org/simple, https://packagecloud.io/github/git-lfs/pypi/simple\n",
            "Requirement already satisfied: transformers in ./miniconda3/envs/ohh_bhai/lib/python3.8/site-packages (4.18.0)\n",
            "Requirement already satisfied: numpy>=1.17 in ./miniconda3/envs/ohh_bhai/lib/python3.8/site-packages (from transformers) (1.19.1)\n",
            "Requirement already satisfied: pyyaml>=5.1 in ./miniconda3/envs/ohh_bhai/lib/python3.8/site-packages (from transformers) (5.4.1)\n",
            "Requirement already satisfied: tqdm>=4.27 in ./miniconda3/envs/ohh_bhai/lib/python3.8/site-packages (from transformers) (4.64.0)\n",
            "Requirement already satisfied: huggingface-hub<1.0,>=0.1.0 in ./miniconda3/envs/ohh_bhai/lib/python3.8/site-packages (from transformers) (0.5.1)\n",
            "Requirement already satisfied: filelock in ./miniconda3/envs/ohh_bhai/lib/python3.8/site-packages (from transformers) (3.6.0)\n",
            "Requirement already satisfied: tokenizers!=0.11.3,<0.13,>=0.11.1 in ./miniconda3/envs/ohh_bhai/lib/python3.8/site-packages (from transformers) (0.11.6)\n",
            "Requirement already satisfied: packaging>=20.0 in ./miniconda3/envs/ohh_bhai/lib/python3.8/site-packages (from transformers) (21.3)\n",
            "Requirement already satisfied: sacremoses in ./miniconda3/envs/ohh_bhai/lib/python3.8/site-packages (from transformers) (0.0.49)\n",
            "Requirement already satisfied: regex!=2019.12.17 in ./miniconda3/envs/ohh_bhai/lib/python3.8/site-packages (from transformers) (2022.3.15)\n",
            "Requirement already satisfied: requests in ./miniconda3/envs/ohh_bhai/lib/python3.8/site-packages (from transformers) (2.24.0)\n",
            "Requirement already satisfied: typing-extensions>=3.7.4.3 in ./miniconda3/envs/ohh_bhai/lib/python3.8/site-packages (from huggingface-hub<1.0,>=0.1.0->transformers) (4.1.1)\n",
            "Requirement already satisfied: pyparsing!=3.0.5,>=2.0.2 in ./miniconda3/envs/ohh_bhai/lib/python3.8/site-packages (from packaging>=20.0->transformers) (3.0.4)\n",
            "Requirement already satisfied: chardet<4,>=3.0.2 in ./miniconda3/envs/ohh_bhai/lib/python3.8/site-packages (from requests->transformers) (3.0.4)\n",
            "Requirement already satisfied: urllib3!=1.25.0,!=1.25.1,<1.26,>=1.21.1 in ./miniconda3/envs/ohh_bhai/lib/python3.8/site-packages (from requests->transformers) (1.25.11)\n",
            "Requirement already satisfied: certifi>=2017.4.17 in ./miniconda3/envs/ohh_bhai/lib/python3.8/site-packages (from requests->transformers) (2021.10.8)\n",
            "Requirement already satisfied: idna<3,>=2.5 in ./miniconda3/envs/ohh_bhai/lib/python3.8/site-packages (from requests->transformers) (2.10)\n",
            "Requirement already satisfied: six in ./miniconda3/envs/ohh_bhai/lib/python3.8/site-packages (from sacremoses->transformers) (1.15.0)\n",
            "Requirement already satisfied: click in ./miniconda3/envs/ohh_bhai/lib/python3.8/site-packages (from sacremoses->transformers) (7.1.2)\n",
            "Requirement already satisfied: joblib in ./miniconda3/envs/ohh_bhai/lib/python3.8/site-packages (from sacremoses->transformers) (1.1.0)\n"
          ]
        }
      ],
      "source": [
        "!pip install transformers"
      ],
      "id": "rb4JURvvkXTY"
    },
    {
      "cell_type": "code",
      "execution_count": null,
      "metadata": {
        "execution": {
          "iopub.execute_input": "2022-04-26T07:04:08.874963Z",
          "iopub.status.busy": "2022-04-26T07:04:08.874783Z",
          "iopub.status.idle": "2022-04-26T07:04:08.877331Z",
          "shell.execute_reply": "2022-04-26T07:04:08.876917Z"
        },
        "id": "EUz5g09mxO4I",
        "papermill": {
          "duration": 0.015968,
          "end_time": "2022-04-26T07:04:08.878627",
          "exception": false,
          "start_time": "2022-04-26T07:04:08.862659",
          "status": "completed"
        },
        "tags": []
      },
      "outputs": [],
      "source": [
        "from google.colab import drive\n",
        "drive.mount('/content/drive')"
      ],
      "id": "EUz5g09mxO4I"
    },
    {
      "cell_type": "code",
      "execution_count": null,
      "metadata": {
        "execution": {
          "iopub.execute_input": "2022-04-26T07:04:08.902160Z",
          "iopub.status.busy": "2022-04-26T07:04:08.902003Z",
          "iopub.status.idle": "2022-04-26T07:04:29.059934Z",
          "shell.execute_reply": "2022-04-26T07:04:29.059350Z"
        },
        "id": "Xc3IdQ5LlmJy",
        "papermill": {
          "duration": 20.172164,
          "end_time": "2022-04-26T07:04:29.061809",
          "exception": false,
          "start_time": "2022-04-26T07:04:08.889645",
          "status": "completed"
        },
        "tags": [],
        "outputId": "3593a8ed-66e9-4433-ca8b-0792dce36ca7"
      },
      "outputs": [
        {
          "name": "stderr",
          "output_type": "stream",
          "text": [
            "/home/starc52/miniconda3/envs/ohh_bhai/lib/python3.8/site-packages/tqdm/auto.py:22: TqdmWarning: IProgress not found. Please update jupyter and ipywidgets. See https://ipywidgets.readthedocs.io/en/stable/user_install.html\n",
            "  from .autonotebook import tqdm as notebook_tqdm\n"
          ]
        }
      ],
      "source": [
        "from transformers import BertTokenizer, BertModel\n",
        "import torch.optim as optim\n",
        "import pandas as pd\n",
        "import numpy as np\n",
        "from torchtext.legacy import data\n",
        "import torch\n",
        "import torch.nn as nn"
      ],
      "id": "Xc3IdQ5LlmJy"
    },
    {
      "cell_type": "code",
      "execution_count": null,
      "metadata": {
        "execution": {
          "iopub.execute_input": "2022-04-26T07:04:29.087040Z",
          "iopub.status.busy": "2022-04-26T07:04:29.086865Z",
          "iopub.status.idle": "2022-04-26T07:04:29.089486Z",
          "shell.execute_reply": "2022-04-26T07:04:29.089090Z"
        },
        "id": "BQ218bCYcyCS",
        "papermill": {
          "duration": 0.016133,
          "end_time": "2022-04-26T07:04:29.090814",
          "exception": false,
          "start_time": "2022-04-26T07:04:29.074681",
          "status": "completed"
        },
        "tags": []
      },
      "outputs": [],
      "source": [
        "max_len = 128\n",
        "MAX_LEN = 256"
      ],
      "id": "BQ218bCYcyCS"
    },
    {
      "cell_type": "code",
      "execution_count": null,
      "metadata": {
        "colab": {
          "base_uri": "https://localhost:8080/",
          "height": 219,
          "referenced_widgets": [
            "b2b7f4f9440347aaa3ae89f025464fdd",
            "7328459c390c4fbba9d44a1f539b0ca5",
            "528b3fe7f26443f797f55c1b5cb1847f",
            "a06596efa73b4ea28461a12ba8edf00b",
            "82d5f6dade6e46ebaab8f08838bc263d",
            "e971deb8e62b421c89a22ea98533a427",
            "d4f0534d001049779a8516222f641c78",
            "b7559d5fb3fe4871b01dcbb52235725c",
            "2b7f5bf4766449539d4c628da521e2a2",
            "d77977e58652491685f4b3f5bbce8a44",
            "73f281ecc50d4129926ed5dee45187c0",
            "2452e4e1c2544df88ca6892823033ae4",
            "beba35c40eac4ba7b30c9b937f37d428",
            "b4ba5f8af8ac46c4b7c937442acd1850",
            "04f6ecf0b38243879aa25ce1d279b4d8",
            "22caf9f5aa904b9caade29752bcf7d64",
            "6567cbddb9574dc7a410c5796dec95be",
            "fa681bf7a2424314bc1c2d1f6d97a7f1",
            "cce4575d0c1c4cd5a02c7d3344e5885a",
            "51e75de364784a66a153e193ef358155",
            "ab1bc6af951d4e38a9e7ab6f68d5e951",
            "f3ba07843b104f2192fa689e59a18831",
            "b8427fb61116402f97ff1779736e291c",
            "6a43949a6263422385f7442562a168a3",
            "a9da75612621416ab83501c15b575e55",
            "dcb9ab0886b94220903b6ada2bb903cc",
            "801f1f9a26d34c57946a9249bb80f4af",
            "a63ec008cc7d41e5b3a01da06d086864",
            "a3d820f557bd492f95f560c2c5188a63",
            "704dc5bb10f949089a9f6914b72856d4",
            "5133b40727c84576abf1fe08665f9490",
            "1f037735492d49ed9eab5a900d090c0b",
            "496e9968cf6e4f8aa093e43213d10041",
            "5d9736d4538d4e91aabd2e597ea55087",
            "b13fcfc362fe4f14a2cfd09922d4837a",
            "72b56dba2b664a45b86a18c54fb6f156",
            "befaa495337c4ebeb3cdb78b80d93e87",
            "b12859b1d82c4e32baa61d16f30d970c",
            "1c71d92986ff46c6b35e03e14a72943b",
            "803059e4d38e489cbbb5b1abc0ef9295",
            "9d56110a97204d26824a4497cda268fa",
            "065044ddf13c47569f6489bfb242709c",
            "463667aeafb641d18dc5435f66e53a7b",
            "04d173c342784fdfafda736c4526f887"
          ]
        },
        "execution": {
          "iopub.execute_input": "2022-04-26T07:04:29.425542Z",
          "iopub.status.busy": "2022-04-26T07:04:29.425316Z",
          "iopub.status.idle": "2022-04-26T07:04:41.094082Z",
          "shell.execute_reply": "2022-04-26T07:04:41.093541Z"
        },
        "id": "h7v3HIeMy19T",
        "outputId": "60d425aa-85c4-482d-8600-cf13c2de2155",
        "papermill": {
          "duration": 11.730197,
          "end_time": "2022-04-26T07:04:41.095474",
          "exception": false,
          "start_time": "2022-04-26T07:04:29.365277",
          "status": "completed"
        },
        "tags": []
      },
      "outputs": [
        {
          "name": "stderr",
          "output_type": "stream",
          "text": [
            "Some weights of the model checkpoint at bert-base-uncased were not used when initializing BertModel: ['cls.predictions.transform.dense.weight', 'cls.predictions.bias', 'cls.predictions.decoder.weight', 'cls.predictions.transform.LayerNorm.weight', 'cls.seq_relationship.weight', 'cls.seq_relationship.bias', 'cls.predictions.transform.dense.bias', 'cls.predictions.transform.LayerNorm.bias']\n",
            "- This IS expected if you are initializing BertModel from the checkpoint of a model trained on another task or with another architecture (e.g. initializing a BertForSequenceClassification model from a BertForPreTraining model).\n",
            "- This IS NOT expected if you are initializing BertModel from the checkpoint of a model that you expect to be exactly identical (initializing a BertForSequenceClassification model from a BertForSequenceClassification model).\n"
          ]
        }
      ],
      "source": [
        "tokenizer = BertTokenizer.from_pretrained('bert-base-uncased')\n",
        "bert_model = BertModel.from_pretrained('bert-base-uncased')"
      ],
      "id": "h7v3HIeMy19T"
    },
    {
      "cell_type": "code",
      "execution_count": null,
      "metadata": {
        "execution": {
          "iopub.execute_input": "2022-04-26T07:04:41.328776Z",
          "iopub.status.busy": "2022-04-26T07:04:41.328596Z",
          "iopub.status.idle": "2022-04-26T07:04:41.332284Z",
          "shell.execute_reply": "2022-04-26T07:04:41.331896Z"
        },
        "id": "NXiRzM35DPzx",
        "papermill": {
          "duration": 0.017911,
          "end_time": "2022-04-26T07:04:41.333548",
          "exception": false,
          "start_time": "2022-04-26T07:04:41.315637",
          "status": "completed"
        },
        "tags": []
      },
      "outputs": [],
      "source": [
        "def split_and_cut(sentence):\n",
        "  tokens = sentence.strip().split(\" \")\n",
        "  tokens = tokens[:MAX_LEN]\n",
        "  return tokens\n",
        "\n",
        "def convert_to_int(tok_ids):\n",
        "  tok_ids = [int(x) for x in tok_ids]\n",
        "  return tok_ids\n",
        "\n",
        "cls_token_idx = tokenizer.cls_token_id\n",
        "sep_token_idx = tokenizer.sep_token_id\n",
        "pad_token_idx = tokenizer.pad_token_id\n",
        "unk_token_idx = tokenizer.unk_token_id"
      ],
      "id": "NXiRzM35DPzx"
    },
    {
      "cell_type": "code",
      "execution_count": null,
      "metadata": {
        "execution": {
          "iopub.execute_input": "2022-04-26T07:04:41.359453Z",
          "iopub.status.busy": "2022-04-26T07:04:41.359299Z",
          "iopub.status.idle": "2022-04-26T07:04:41.362986Z",
          "shell.execute_reply": "2022-04-26T07:04:41.362609Z"
        },
        "id": "nnnpm-aYC1ia",
        "papermill": {
          "duration": 0.018072,
          "end_time": "2022-04-26T07:04:41.364283",
          "exception": false,
          "start_time": "2022-04-26T07:04:41.346211",
          "status": "completed"
        },
        "tags": []
      },
      "outputs": [],
      "source": [
        "#For sequence\n",
        "TEXT = data.Field(batch_first = True,\n",
        "                  use_vocab = False,\n",
        "                  tokenize = split_and_cut,\n",
        "                  preprocessing = tokenizer.convert_tokens_to_ids,\n",
        "                  pad_token = pad_token_idx,\n",
        "                  unk_token = unk_token_idx)\n",
        "#For Attention mask\n",
        "ATTENTION = data.Field(batch_first = True,\n",
        "                  use_vocab = False,\n",
        "                  tokenize = split_and_cut,\n",
        "                  preprocessing = convert_to_int,\n",
        "                  pad_token = pad_token_idx)\n",
        "#For token type ids\n",
        "TTYPE = data.Field(batch_first = True,\n",
        "                  use_vocab = False,\n",
        "                  tokenize = split_and_cut,\n",
        "                  preprocessing = convert_to_int,\n",
        "                  pad_token = 1)\n",
        "\n",
        "#For label\n",
        "LABEL = data.LabelField()"
      ],
      "id": "nnnpm-aYC1ia"
    },
    {
      "cell_type": "code",
      "execution_count": null,
      "metadata": {
        "execution": {
          "iopub.execute_input": "2022-04-26T07:04:41.390985Z",
          "iopub.status.busy": "2022-04-26T07:04:41.390707Z",
          "iopub.status.idle": "2022-04-26T07:04:41.393330Z",
          "shell.execute_reply": "2022-04-26T07:04:41.392947Z"
        },
        "id": "ygV7cHguC2_e",
        "papermill": {
          "duration": 0.017214,
          "end_time": "2022-04-26T07:04:41.394599",
          "exception": false,
          "start_time": "2022-04-26T07:04:41.377385",
          "status": "completed"
        },
        "tags": []
      },
      "outputs": [],
      "source": [
        "fields = [('tokens', TEXT), ('attention_sent', ATTENTION), ('token_ids', TTYPE), ('gold_label', LABEL)]"
      ],
      "id": "ygV7cHguC2_e"
    },
    {
      "cell_type": "code",
      "execution_count": null,
      "metadata": {
        "execution": {
          "iopub.execute_input": "2022-04-26T07:04:41.421100Z",
          "iopub.status.busy": "2022-04-26T07:04:41.420853Z",
          "iopub.status.idle": "2022-04-26T07:04:41.423273Z",
          "shell.execute_reply": "2022-04-26T07:04:41.422878Z"
        },
        "id": "zxa89O1SD3YO",
        "papermill": {
          "duration": 0.016801,
          "end_time": "2022-04-26T07:04:41.424564",
          "exception": false,
          "start_time": "2022-04-26T07:04:41.407763",
          "status": "completed"
        },
        "tags": []
      },
      "outputs": [],
      "source": [
        "train_data, valid_data, test_data = data.TabularDataset.splits(\n",
        "                                        path = '/content/drive/MyDrive/snli_1.0/snli_1.0/',\n",
        "                                        train = 'updated_train.csv',\n",
        "                                        validation = 'updated_val.csv',\n",
        "                                        test = 'updated_test.csv',\n",
        "                                        format = 'csv',\n",
        "                                        fields = fields,\n",
        "                                        skip_header = True)"
      ],
      "id": "zxa89O1SD3YO"
    },
    {
      "cell_type": "code",
      "execution_count": null,
      "metadata": {
        "execution": {
          "iopub.execute_input": "2022-04-26T07:05:03.463934Z",
          "iopub.status.busy": "2022-04-26T07:05:03.463769Z",
          "iopub.status.idle": "2022-04-26T07:05:03.907171Z",
          "shell.execute_reply": "2022-04-26T07:05:03.906637Z"
        },
        "id": "8PEKIrIlZ12Z",
        "papermill": {
          "duration": 0.457502,
          "end_time": "2022-04-26T07:05:03.908385",
          "exception": false,
          "start_time": "2022-04-26T07:05:03.450883",
          "status": "completed"
        },
        "tags": []
      },
      "outputs": [],
      "source": [
        "LABEL.build_vocab(train_data)"
      ],
      "id": "8PEKIrIlZ12Z"
    },
    {
      "cell_type": "code",
      "execution_count": null,
      "metadata": {
        "execution": {
          "iopub.execute_input": "2022-04-26T07:05:03.932948Z",
          "iopub.status.busy": "2022-04-26T07:05:03.932785Z",
          "iopub.status.idle": "2022-04-26T07:05:03.936429Z",
          "shell.execute_reply": "2022-04-26T07:05:03.936028Z"
        },
        "id": "QeW5WLK3Vd9X",
        "papermill": {
          "duration": 0.017279,
          "end_time": "2022-04-26T07:05:03.937620",
          "exception": false,
          "start_time": "2022-04-26T07:05:03.920341",
          "status": "completed"
        },
        "tags": []
      },
      "outputs": [],
      "source": [
        "BATCH_SIZE = 32\n",
        "device = torch.device('cuda' if torch.cuda.is_available() else 'cpu')\n",
        "\n",
        "train_iterator, valid_iterator, test_iterator = data.BucketIterator.splits(\n",
        "    (train_data, valid_data, test_data), \n",
        "    batch_size = BATCH_SIZE,\n",
        "    sort = False,\n",
        "    # sort_key = lambda x: len(x.sequence),\n",
        "    sort_within_batch = False, \n",
        "    device = device)"
      ],
      "id": "QeW5WLK3Vd9X"
    },
    {
      "cell_type": "code",
      "execution_count": null,
      "metadata": {
        "execution": {
          "iopub.execute_input": "2022-04-26T07:05:04.052522Z",
          "iopub.status.busy": "2022-04-26T07:05:04.052276Z",
          "iopub.status.idle": "2022-04-26T07:05:04.054473Z",
          "shell.execute_reply": "2022-04-26T07:05:04.054106Z"
        },
        "id": "SnN3nu9B4aiy",
        "papermill": {
          "duration": 0.016147,
          "end_time": "2022-04-26T07:05:04.055670",
          "exception": false,
          "start_time": "2022-04-26T07:05:04.039523",
          "status": "completed"
        },
        "tags": []
      },
      "outputs": [],
      "source": [
        "PATH = '/content/drive/MyDrive/snli_1.0/latest_10000'\n",
        "PATH2 = \"/content/drive/MyDrive/snli_1.0/final_model\""
      ],
      "id": "SnN3nu9B4aiy"
    },
    {
      "cell_type": "code",
      "execution_count": null,
      "metadata": {
        "colab": {
          "base_uri": "https://localhost:8080/"
        },
        "execution": {
          "iopub.execute_input": "2022-04-28T15:37:28.934395Z",
          "iopub.status.busy": "2022-04-28T15:37:28.934148Z",
          "iopub.status.idle": "2022-04-28T15:37:29.173783Z",
          "shell.execute_reply": "2022-04-28T15:37:29.173039Z"
        },
        "id": "L-G5_lZWsRK8",
        "outputId": "b9ffc4ac-a34b-4586-b3f4-2c329e79b85a",
        "papermill": {
          "duration": 0.255298,
          "end_time": "2022-04-28T15:37:29.176194",
          "exception": false,
          "start_time": "2022-04-28T15:37:28.920896",
          "status": "completed"
        },
        "tags": []
      },
      "outputs": [
        {
          "data": {
            "text/plain": [
              "<All keys matched successfully>"
            ]
          },
          "execution_count": 36,
          "metadata": {},
          "output_type": "execute_result"
        }
      ],
      "source": [
        "nli_model.load_state_dict(torch.load(PATH2))"
      ],
      "id": "L-G5_lZWsRK8"
    },
    {
      "cell_type": "code",
      "execution_count": null,
      "metadata": {
        "execution": {
          "iopub.execute_input": "2022-04-28T15:37:29.236425Z",
          "iopub.status.busy": "2022-04-28T15:37:29.236068Z",
          "iopub.status.idle": "2022-04-28T15:37:29.241440Z",
          "shell.execute_reply": "2022-04-28T15:37:29.240769Z"
        },
        "id": "-6L-5MRsYGGN",
        "papermill": {
          "duration": 0.037461,
          "end_time": "2022-04-28T15:37:29.242893",
          "exception": false,
          "start_time": "2022-04-28T15:37:29.205432",
          "status": "completed"
        },
        "tags": []
      },
      "outputs": [],
      "source": [
        "def get_label(pred_y):\n",
        "\n",
        "  val = np.argmax(pred_y.detach().numpy(), axis=1)\n",
        "  return val"
      ],
      "id": "-6L-5MRsYGGN"
    },
    {
      "cell_type": "code",
      "execution_count": null,
      "metadata": {
        "execution": {
          "iopub.execute_input": "2022-04-28T15:37:29.273161Z",
          "iopub.status.busy": "2022-04-28T15:37:29.272806Z",
          "iopub.status.idle": "2022-04-28T15:37:29.277581Z",
          "shell.execute_reply": "2022-04-28T15:37:29.276921Z"
        },
        "id": "QI7c4UBIU_F6",
        "papermill": {
          "duration": 0.021481,
          "end_time": "2022-04-28T15:37:29.279009",
          "exception": false,
          "start_time": "2022-04-28T15:37:29.257528",
          "status": "completed"
        },
        "tags": []
      },
      "outputs": [],
      "source": [
        "def calc_acc(pred_y, true_y, corr_pred):\n",
        "\n",
        "  val = get_label(pred_y)\n",
        "  true_y_np = true_y.detach().numpy()\n",
        "  corr_pred += np.sum(val==true_y_np)\n",
        "\n",
        "  return corr_pred"
      ],
      "id": "QI7c4UBIU_F6"
    },
    {
      "cell_type": "code",
      "execution_count": null,
      "metadata": {
        "execution": {
          "iopub.execute_input": "2022-04-28T15:37:29.308704Z",
          "iopub.status.busy": "2022-04-28T15:37:29.308503Z",
          "iopub.status.idle": "2022-04-28T15:37:29.312553Z",
          "shell.execute_reply": "2022-04-28T15:37:29.311927Z"
        },
        "papermill": {
          "duration": 0.020511,
          "end_time": "2022-04-28T15:37:29.313993",
          "exception": false,
          "start_time": "2022-04-28T15:37:29.293482",
          "status": "completed"
        },
        "tags": [],
        "id": "srWGo9g4k-QO"
      },
      "outputs": [],
      "source": [
        "def get_predictions(iterator, data):\n",
        "    corr_pred = 0\n",
        "\n",
        "    for batch in iterator:\n",
        "\n",
        "      sequence = batch.tokens\n",
        "      attn_mask = batch.attention_sent\n",
        "      token_type = batch.token_ids\n",
        "      label = batch.gold_label\n",
        "\n",
        "      prediction = nli_model(sequence, attn_mask, token_type)\n",
        "      corr_pred = calc_acc(prediction, label, corr_pred)\n",
        "\n",
        "    acc = corr_pred/len(data)\n",
        "    return acc"
      ],
      "id": "srWGo9g4k-QO"
    },
    {
      "cell_type": "code",
      "execution_count": null,
      "metadata": {
        "execution": {
          "iopub.execute_input": "2022-04-28T15:37:29.343419Z",
          "iopub.status.busy": "2022-04-28T15:37:29.343222Z",
          "iopub.status.idle": "2022-04-28T18:32:57.953169Z",
          "shell.execute_reply": "2022-04-28T18:32:57.951532Z"
        },
        "papermill": {
          "duration": 10528.707625,
          "end_time": "2022-04-28T18:32:58.036151",
          "exception": false,
          "start_time": "2022-04-28T15:37:29.328526",
          "status": "completed"
        },
        "tags": [],
        "id": "OGu4TBnfk-QO",
        "outputId": "dcce1fb3-9710-44b2-bdb0-605864ae52cf"
      },
      "outputs": [
        {
          "name": "stdout",
          "output_type": "stream",
          "text": [
            "0.9919797728633812\n"
          ]
        }
      ],
      "source": [
        "train_acc = get_predictions(train_iterator, train_data)\n",
        "print(train_acc)"
      ],
      "id": "OGu4TBnfk-QO"
    },
    {
      "cell_type": "code",
      "execution_count": null,
      "metadata": {
        "colab": {
          "base_uri": "https://localhost:8080/"
        },
        "execution": {
          "iopub.execute_input": "2022-04-28T18:32:58.067778Z",
          "iopub.status.busy": "2022-04-28T18:32:58.067245Z",
          "iopub.status.idle": "2022-04-28T18:35:43.029494Z",
          "shell.execute_reply": "2022-04-28T18:35:43.028740Z"
        },
        "id": "z-r5PpaMXS9r",
        "outputId": "ade3be22-a169-48fe-c985-0efce75331fa",
        "papermill": {
          "duration": 165.017444,
          "end_time": "2022-04-28T18:35:43.068732",
          "exception": false,
          "start_time": "2022-04-28T18:32:58.051288",
          "status": "completed"
        },
        "tags": []
      },
      "outputs": [
        {
          "name": "stdout",
          "output_type": "stream",
          "text": [
            "0.8918918918918919\n"
          ]
        }
      ],
      "source": [
        "val_acc = get_predictions(valid_iterator, valid_data)\n",
        "print(val_acc)"
      ],
      "id": "z-r5PpaMXS9r"
    },
    {
      "cell_type": "code",
      "execution_count": null,
      "metadata": {
        "colab": {
          "base_uri": "https://localhost:8080/"
        },
        "execution": {
          "iopub.execute_input": "2022-04-28T18:35:43.228706Z",
          "iopub.status.busy": "2022-04-28T18:35:43.228381Z",
          "iopub.status.idle": "2022-04-28T18:38:00.209613Z",
          "shell.execute_reply": "2022-04-28T18:38:00.208868Z"
        },
        "id": "xl5dF2yiZ8dI",
        "outputId": "30bfc9b8-c3ba-4c33-dcdd-7be7f143a23f",
        "papermill": {
          "duration": 137.031607,
          "end_time": "2022-04-28T18:38:00.244922",
          "exception": false,
          "start_time": "2022-04-28T18:35:43.213315",
          "status": "completed"
        },
        "tags": []
      },
      "outputs": [
        {
          "name": "stdout",
          "output_type": "stream",
          "text": [
            "0.8934242671009772\n"
          ]
        }
      ],
      "source": [
        "test_acc = get_predictions(test_iterator, test_data)\n",
        "print(test_acc)"
      ],
      "id": "xl5dF2yiZ8dI"
    },
    {
      "cell_type": "code",
      "source": [
        "reverse_dct = {}\n",
        "\n",
        "dct = LABEL.vocab.stoi\n",
        "\n",
        "for k, v in dct.items():\n",
        "  reverse_dct[v] = k"
      ],
      "metadata": {
        "id": "ubonrXv6nNia"
      },
      "id": "ubonrXv6nNia",
      "execution_count": null,
      "outputs": []
    },
    {
      "cell_type": "code",
      "source": [
        "def get_sentence(lst):\n",
        "  return \" \".join([word for word in lst])"
      ],
      "metadata": {
        "id": "YVQ7EtRSnNmy"
      },
      "id": "YVQ7EtRSnNmy",
      "execution_count": null,
      "outputs": []
    },
    {
      "cell_type": "code",
      "execution_count": null,
      "metadata": {
        "colab": {
          "base_uri": "https://localhost:8080/"
        },
        "execution": {
          "iopub.execute_input": "2022-04-28T18:38:00.341367Z",
          "iopub.status.busy": "2022-04-28T18:38:00.341051Z",
          "iopub.status.idle": "2022-04-28T18:38:01.149977Z",
          "shell.execute_reply": "2022-04-28T18:38:01.149380Z"
        },
        "id": "gTzeGUf4rit2",
        "outputId": "f7062f82-51c7-4157-a430-f1d2873483bc",
        "papermill": {
          "duration": 0.857988,
          "end_time": "2022-04-28T18:38:01.151750",
          "exception": false,
          "start_time": "2022-04-28T18:38:00.293762",
          "status": "completed"
        },
        "tags": []
      },
      "outputs": [
        {
          "name": "stdout",
          "output_type": "stream",
          "text": [
            "[CLS] this church choir sings to the masses as they sing joy ##ous songs from the book at a church . [SEP] the church has cracks in the ceiling . [SEP] [PAD] [PAD] [PAD] [PAD] [PAD] [PAD] [PAD] [PAD] - neutral\n",
            "[CLS] this church choir sings to the masses as they sing joy ##ous songs from the book at a church . [SEP] the church is filled with song . [SEP] [PAD] [PAD] [PAD] [PAD] [PAD] [PAD] [PAD] [PAD] [PAD] - entailment\n",
            "[CLS] this church choir sings to the masses as they sing joy ##ous songs from the book at a church . [SEP] a choir singing at a baseball game . [SEP] [PAD] [PAD] [PAD] [PAD] [PAD] [PAD] [PAD] [PAD] - contradiction\n",
            "[CLS] a woman with a green heads ##car ##f , blue shirt and a very big grin . [SEP] the woman is young . [SEP] [PAD] [PAD] [PAD] [PAD] [PAD] [PAD] [PAD] [PAD] [PAD] [PAD] [PAD] [PAD] [PAD] [PAD] - neutral\n",
            "[CLS] a woman with a green heads ##car ##f , blue shirt and a very big grin . [SEP] the woman is very happy . [SEP] [PAD] [PAD] [PAD] [PAD] [PAD] [PAD] [PAD] [PAD] [PAD] [PAD] [PAD] [PAD] [PAD] - entailment\n",
            "[CLS] a woman with a green heads ##car ##f , blue shirt and a very big grin . [SEP] the woman has been shot . [SEP] [PAD] [PAD] [PAD] [PAD] [PAD] [PAD] [PAD] [PAD] [PAD] [PAD] [PAD] [PAD] [PAD] - contradiction\n",
            "[CLS] an old man with a package poses in front of an advertisement . [SEP] a man poses in front of an ad . [SEP] [PAD] [PAD] [PAD] [PAD] [PAD] [PAD] [PAD] [PAD] [PAD] [PAD] [PAD] [PAD] [PAD] [PAD] - entailment\n",
            "[CLS] an old man with a package poses in front of an advertisement . [SEP] a man poses in front of an ad for beer . [SEP] [PAD] [PAD] [PAD] [PAD] [PAD] [PAD] [PAD] [PAD] [PAD] [PAD] [PAD] [PAD] - neutral\n",
            "[CLS] an old man with a package poses in front of an advertisement . [SEP] a man walks by an ad . [SEP] [PAD] [PAD] [PAD] [PAD] [PAD] [PAD] [PAD] [PAD] [PAD] [PAD] [PAD] [PAD] [PAD] [PAD] [PAD] [PAD] - contradiction\n",
            "[CLS] a statue at a museum that no seems to be looking at . [SEP] the statue is offensive and people are mad that it is on display . [SEP] [PAD] [PAD] [PAD] [PAD] [PAD] [PAD] [PAD] [PAD] [PAD] - neutral\n",
            "[CLS] a statue at a museum that no seems to be looking at . [SEP] there is a statue that not many people seem to be interested in . [SEP] [PAD] [PAD] [PAD] [PAD] [PAD] [PAD] [PAD] [PAD] [PAD] - entailment\n",
            "[CLS] a statue at a museum that no seems to be looking at . [SEP] tons of people are gathered around the statue . [SEP] [PAD] [PAD] [PAD] [PAD] [PAD] [PAD] [PAD] [PAD] [PAD] [PAD] [PAD] [PAD] [PAD] [PAD] - neutral\n",
            "[CLS] a land rover is being driven across a river . [SEP] a land rover is splash ##ing water as it crosses a river . [SEP] [PAD] [PAD] [PAD] [PAD] [PAD] [PAD] [PAD] [PAD] [PAD] [PAD] [PAD] [PAD] [PAD] - neutral\n",
            "[CLS] a land rover is being driven across a river . [SEP] a vehicle is crossing a river . [SEP] [PAD] [PAD] [PAD] [PAD] [PAD] [PAD] [PAD] [PAD] [PAD] [PAD] [PAD] [PAD] [PAD] [PAD] [PAD] [PAD] [PAD] [PAD] [PAD] - entailment\n",
            "[CLS] a land rover is being driven across a river . [SEP] a sedan is stuck in the middle of a river . [SEP] [PAD] [PAD] [PAD] [PAD] [PAD] [PAD] [PAD] [PAD] [PAD] [PAD] [PAD] [PAD] [PAD] [PAD] [PAD] - contradiction\n",
            "[CLS] a man playing an electric guitar on stage . [SEP] a man playing banjo on the floor . [SEP] [PAD] [PAD] [PAD] [PAD] [PAD] [PAD] [PAD] [PAD] [PAD] [PAD] [PAD] [PAD] [PAD] [PAD] [PAD] [PAD] [PAD] [PAD] [PAD] - contradiction\n",
            "[CLS] a man playing an electric guitar on stage . [SEP] a man playing guitar on stage . [SEP] [PAD] [PAD] [PAD] [PAD] [PAD] [PAD] [PAD] [PAD] [PAD] [PAD] [PAD] [PAD] [PAD] [PAD] [PAD] [PAD] [PAD] [PAD] [PAD] [PAD] - entailment\n",
            "[CLS] a man playing an electric guitar on stage . [SEP] a man is performing for cash . [SEP] [PAD] [PAD] [PAD] [PAD] [PAD] [PAD] [PAD] [PAD] [PAD] [PAD] [PAD] [PAD] [PAD] [PAD] [PAD] [PAD] [PAD] [PAD] [PAD] [PAD] - neutral\n",
            "[CLS] a blond - haired doctor and her african american assistant looking threw new medical manual ##s . [SEP] a doctor is looking at a book [SEP] [PAD] [PAD] [PAD] [PAD] [PAD] [PAD] [PAD] [PAD] [PAD] [PAD] [PAD] [PAD] - entailment\n",
            "[CLS] a blond - haired doctor and her african american assistant looking threw new medical manual ##s . [SEP] a man is eating p ##b and j [SEP] [PAD] [PAD] [PAD] [PAD] [PAD] [PAD] [PAD] [PAD] [PAD] [PAD] [PAD] - contradiction\n",
            "[CLS] a blond - haired doctor and her african american assistant looking threw new medical manual ##s . [SEP] a doctor is studying [SEP] [PAD] [PAD] [PAD] [PAD] [PAD] [PAD] [PAD] [PAD] [PAD] [PAD] [PAD] [PAD] [PAD] [PAD] [PAD] - entailment\n",
            "[CLS] one tan girl with a wool hat is running and leaning over an object , while another person in a wool hat is sitting on the ground . [SEP] a boy runs into a wall [SEP] [PAD] [PAD] - contradiction\n",
            "[CLS] one tan girl with a wool hat is running and leaning over an object , while another person in a wool hat is sitting on the ground . [SEP] a tan girl runs leans over an object [SEP] - entailment\n",
            "[CLS] one tan girl with a wool hat is running and leaning over an object , while another person in a wool hat is sitting on the ground . [SEP] a man watches his daughter leap [SEP] [PAD] [PAD] - contradiction\n",
            "[CLS] a young family enjoys feeling ocean waves lap at their feet . [SEP] a young man and woman take their child to the beach for the first time . [SEP] [PAD] [PAD] [PAD] [PAD] [PAD] [PAD] [PAD] [PAD] - neutral\n",
            "[CLS] a young family enjoys feeling ocean waves lap at their feet . [SEP] a family is out at a restaurant . [SEP] [PAD] [PAD] [PAD] [PAD] [PAD] [PAD] [PAD] [PAD] [PAD] [PAD] [PAD] [PAD] [PAD] [PAD] [PAD] [PAD] - contradiction\n",
            "[CLS] a young family enjoys feeling ocean waves lap at their feet . [SEP] a family is at the beach . [SEP] [PAD] [PAD] [PAD] [PAD] [PAD] [PAD] [PAD] [PAD] [PAD] [PAD] [PAD] [PAD] [PAD] [PAD] [PAD] [PAD] [PAD] - entailment\n",
            "[CLS] a couple walk hand in hand down a street . [SEP] a couple is walking together . [SEP] [PAD] [PAD] [PAD] [PAD] [PAD] [PAD] [PAD] [PAD] [PAD] [PAD] [PAD] [PAD] [PAD] [PAD] [PAD] [PAD] [PAD] [PAD] [PAD] [PAD] - entailment\n",
            "[CLS] a couple walk hand in hand down a street . [SEP] the couple is married . [SEP] [PAD] [PAD] [PAD] [PAD] [PAD] [PAD] [PAD] [PAD] [PAD] [PAD] [PAD] [PAD] [PAD] [PAD] [PAD] [PAD] [PAD] [PAD] [PAD] [PAD] [PAD] - neutral\n",
            "[CLS] a couple walk hand in hand down a street . [SEP] a couple is sitting on a bench . [SEP] [PAD] [PAD] [PAD] [PAD] [PAD] [PAD] [PAD] [PAD] [PAD] [PAD] [PAD] [PAD] [PAD] [PAD] [PAD] [PAD] [PAD] [PAD] - contradiction\n",
            "[CLS] 3 young man in hood ##s standing in the middle of a quiet street facing the camera . [SEP] three people sit by a busy street bare ##head ##ed . [SEP] [PAD] [PAD] [PAD] [PAD] [PAD] [PAD] [PAD] - contradiction\n",
            "[CLS] 3 young man in hood ##s standing in the middle of a quiet street facing the camera . [SEP] three hood wearing people pose for a picture . [SEP] [PAD] [PAD] [PAD] [PAD] [PAD] [PAD] [PAD] [PAD] [PAD] - entailment\n",
            "[CLS] 3 young man in hood ##s standing in the middle of a quiet street facing the camera . [SEP] three hood wearing people stand in a street . [SEP] [PAD] [PAD] [PAD] [PAD] [PAD] [PAD] [PAD] [PAD] - neutral\n",
            "[CLS] a man reads the paper in a bar with green lighting . [SEP] the man is inside . [SEP] [PAD] [PAD] [PAD] [PAD] [PAD] [PAD] [PAD] [PAD] [PAD] [PAD] [PAD] [PAD] [PAD] [PAD] [PAD] [PAD] [PAD] [PAD] - entailment\n",
            "[CLS] a man reads the paper in a bar with green lighting . [SEP] the man is reading the sports ##page . [SEP] [PAD] [PAD] [PAD] [PAD] [PAD] [PAD] [PAD] [PAD] [PAD] [PAD] [PAD] [PAD] [PAD] [PAD] [PAD] - neutral\n",
            "[CLS] a man reads the paper in a bar with green lighting . [SEP] the man is climbing a mountain . [SEP] [PAD] [PAD] [PAD] [PAD] [PAD] [PAD] [PAD] [PAD] [PAD] [PAD] [PAD] [PAD] [PAD] [PAD] [PAD] [PAD] - contradiction\n",
            "[CLS] three fire ##fighter come out of subway station . [SEP] three firefighters putting out a fire inside of a subway station . [SEP] [PAD] [PAD] [PAD] [PAD] [PAD] [PAD] [PAD] [PAD] [PAD] [PAD] [PAD] [PAD] [PAD] [PAD] - neutral\n",
            "[CLS] three fire ##fighter come out of subway station . [SEP] three firefighters coming up from a subway station . [SEP] [PAD] [PAD] [PAD] [PAD] [PAD] [PAD] [PAD] [PAD] [PAD] [PAD] [PAD] [PAD] [PAD] [PAD] [PAD] [PAD] [PAD] - contradiction\n",
            "[CLS] three fire ##fighter come out of subway station . [SEP] three firefighters playing cards inside a fire station . [SEP] [PAD] [PAD] [PAD] [PAD] [PAD] [PAD] [PAD] [PAD] [PAD] [PAD] [PAD] [PAD] [PAD] [PAD] [PAD] [PAD] [PAD] - contradiction\n",
            "[CLS] a person wearing a straw hat , standing outside working a steel apparatus with a pile of coconut ##s on the ground . [SEP] a person is near a pile of coconut ##s . [SEP] [PAD] [PAD] - entailment\n",
            "[CLS] a person wearing a straw hat , standing outside working a steel apparatus with a pile of coconut ##s on the ground . [SEP] a person is selling coconut ##s . [SEP] [PAD] [PAD] [PAD] [PAD] [PAD] - neutral\n",
            "[CLS] a person wearing a straw hat , standing outside working a steel apparatus with a pile of coconut ##s on the ground . [SEP] a person is burning a straw hat . [SEP] [PAD] [PAD] [PAD] [PAD] - contradiction\n",
            "[CLS] male in a blue jacket decides to lay in the grass . [SEP] the guy in yellow is rolling on the grass [SEP] [PAD] [PAD] [PAD] [PAD] [PAD] [PAD] [PAD] [PAD] [PAD] [PAD] [PAD] [PAD] [PAD] [PAD] - contradiction\n",
            "[CLS] male in a blue jacket decides to lay in the grass . [SEP] the guy wearing a blue jacket is laying on the green grass [SEP] [PAD] [PAD] [PAD] [PAD] [PAD] [PAD] [PAD] [PAD] [PAD] [PAD] [PAD] - neutral\n",
            "[CLS] male in a blue jacket decides to lay in the grass . [SEP] the guy wearing a blue jacket is laying on the green grass taking a nap . [SEP] [PAD] [PAD] [PAD] [PAD] [PAD] [PAD] [PAD] - neutral\n",
            "[CLS] during calf ro ##ping a cowboy calls off his horse . [SEP] a first time rope ##r falls off his horse . [SEP] [PAD] [PAD] [PAD] [PAD] [PAD] [PAD] [PAD] [PAD] [PAD] [PAD] [PAD] [PAD] [PAD] [PAD] - neutral\n",
            "[CLS] during calf ro ##ping a cowboy calls off his horse . [SEP] a man ropes a calf successfully . [SEP] [PAD] [PAD] [PAD] [PAD] [PAD] [PAD] [PAD] [PAD] [PAD] [PAD] [PAD] [PAD] [PAD] [PAD] [PAD] [PAD] [PAD] - entailment\n",
            "[CLS] a little boy in a gray and white striped sweater and tan pants is playing on a piece of playground equipment . [SEP] a boy is on a playground . [SEP] [PAD] [PAD] [PAD] [PAD] [PAD] [PAD] - entailment\n",
            "[CLS] a little boy in a gray and white striped sweater and tan pants is playing on a piece of playground equipment . [SEP] the boy is playing on the swings after school . [SEP] [PAD] [PAD] [PAD] - neutral\n",
            "[CLS] a little boy in a gray and white striped sweater and tan pants is playing on a piece of playground equipment . [SEP] the boy is sitting on the school bus on his way home . [SEP] - contradiction\n",
            "[CLS] a woman wearing a ball cap squat ##s down to touch the cracked earth . [SEP] an arch ##eo ##logist wearing a hat squat ##s to examine the site for a dig [SEP] [PAD] [PAD] [PAD] [PAD] - neutral\n",
            "[CLS] a woman wearing a ball cap squat ##s down to touch the cracked earth . [SEP] a squat ##ting woman wearing a hat touching the ground . [SEP] [PAD] [PAD] [PAD] [PAD] [PAD] [PAD] [PAD] [PAD] [PAD] - entailment\n",
            "[CLS] a woman wearing a ball cap squat ##s down to touch the cracked earth . [SEP] a woman wearing a sun bonnet planting a garden . [SEP] [PAD] [PAD] [PAD] [PAD] [PAD] [PAD] [PAD] [PAD] [PAD] [PAD] - contradiction\n",
            "[CLS] two children re laying on a rug with some wooden bricks laid out in a square between them . [SEP] two children are building a brick furnace . [SEP] [PAD] [PAD] [PAD] [PAD] [PAD] [PAD] [PAD] [PAD] - contradiction\n",
            "[CLS] two children re laying on a rug with some wooden bricks laid out in a square between them . [SEP] two children are playing catch at a park . [SEP] [PAD] [PAD] [PAD] [PAD] [PAD] [PAD] [PAD] - contradiction\n",
            "[CLS] two children re laying on a rug with some wooden bricks laid out in a square between them . [SEP] two children are on a rug . [SEP] [PAD] [PAD] [PAD] [PAD] [PAD] [PAD] [PAD] [PAD] [PAD] - entailment\n",
            "[CLS] a man standing in front of a building on the phone as two men to the side pain on the side . [SEP] a guy near a building stands by two other men [SEP] [PAD] [PAD] [PAD] - entailment\n",
            "[CLS] a man standing in front of a building on the phone as two men to the side pain on the side . [SEP] two girls walk through a hall [SEP] [PAD] [PAD] [PAD] [PAD] [PAD] [PAD] [PAD] - contradiction\n",
            "[CLS] a man standing in front of a building on the phone as two men to the side pain on the side . [SEP] a busy man stands with bodyguards [SEP] [PAD] [PAD] [PAD] [PAD] [PAD] [PAD] [PAD] - neutral\n",
            "[CLS] the two young girls are dressed as fairies , and are playing in the leaves outdoors . [SEP] girls are playing outdoors . [SEP] [PAD] [PAD] [PAD] [PAD] [PAD] [PAD] [PAD] [PAD] [PAD] [PAD] [PAD] [PAD] [PAD] - entailment\n",
            "[CLS] the two young girls are dressed as fairies , and are playing in the leaves outdoors . [SEP] two girls play dress up indoors . [SEP] [PAD] [PAD] [PAD] [PAD] [PAD] [PAD] [PAD] [PAD] [PAD] [PAD] [PAD] - contradiction\n",
            "[CLS] the two young girls are dressed as fairies , and are playing in the leaves outdoors . [SEP] the two girls play in the autumn . [SEP] [PAD] [PAD] [PAD] [PAD] [PAD] [PAD] [PAD] [PAD] [PAD] [PAD] - neutral\n",
            "[CLS] people jump over a mountain cr ##eva ##sse on a rope . [SEP] some people look visually afraid to jump . [SEP] [PAD] [PAD] [PAD] [PAD] [PAD] [PAD] [PAD] [PAD] [PAD] [PAD] [PAD] [PAD] [PAD] [PAD] [PAD] - contradiction\n",
            "[CLS] people jump over a mountain cr ##eva ##sse on a rope . [SEP] people are jumping outside . [SEP] [PAD] [PAD] [PAD] [PAD] [PAD] [PAD] [PAD] [PAD] [PAD] [PAD] [PAD] [PAD] [PAD] [PAD] [PAD] [PAD] [PAD] [PAD] - entailment\n"
          ]
        }
      ],
      "source": [
        "cnt=0\n",
        "\n",
        "for batch in test_iterator:\n",
        "\n",
        "  sequence = batch.tokens\n",
        "  attn_mask = batch.attention_sent\n",
        "  token_type = batch.token_ids\n",
        "  label = batch.gold_label\n",
        "\n",
        "  predictions = nli_model(sequence, attn_mask, token_type)\n",
        "  pred_labels = get_label(predictions)\n",
        "\n",
        "  for i, pred in enumerate(pred_labels):\n",
        "    print(get_sentence(tokenizer.convert_ids_to_tokens(sequence[i])), end=\" - \")\n",
        "    print(reverse_dct[pred_labels[i]])\n",
        "\n",
        "  cnt += len(batch)\n",
        "  \n",
        "  if cnt>=2*len(batch):\n",
        "    break"
      ],
      "id": "gTzeGUf4rit2"
    }
  ],
  "metadata": {
    "accelerator": "TPU",
    "colab": {
      "collapsed_sections": [],
      "name": "NLI_Testing.ipynb",
      "provenance": []
    },
    "kernelspec": {
      "display_name": "Python 3",
      "language": "python",
      "name": "python3"
    },
    "language_info": {
      "codemirror_mode": {
        "name": "ipython",
        "version": 3
      },
      "file_extension": ".py",
      "mimetype": "text/x-python",
      "name": "python",
      "nbconvert_exporter": "python",
      "pygments_lexer": "ipython3",
      "version": "3.5.2"
    },
    "papermill": {
      "default_parameters": {},
      "duration": 214442.828906,
      "end_time": "2022-04-28T18:38:04.255448",
      "environment_variables": {},
      "exception": null,
      "input_path": "/home/starc52/NLP.ipynb",
      "output_path": "/home/starc52/abhi/out.ipynb",
      "parameters": {},
      "start_time": "2022-04-26T07:04:01.426542",
      "version": "2.3.4"
    },
    "widgets": {
      "application/vnd.jupyter.widget-state+json": {
        "04d173c342784fdfafda736c4526f887": {
          "model_module": "@jupyter-widgets/controls",
          "model_module_version": "1.5.0",
          "model_name": "DescriptionStyleModel",
          "state": {
            "_model_module": "@jupyter-widgets/controls",
            "_model_module_version": "1.5.0",
            "_model_name": "DescriptionStyleModel",
            "_view_count": null,
            "_view_module": "@jupyter-widgets/base",
            "_view_module_version": "1.2.0",
            "_view_name": "StyleView",
            "description_width": ""
          }
        },
        "04f6ecf0b38243879aa25ce1d279b4d8": {
          "model_module": "@jupyter-widgets/controls",
          "model_module_version": "1.5.0",
          "model_name": "HTMLModel",
          "state": {
            "_dom_classes": [],
            "_model_module": "@jupyter-widgets/controls",
            "_model_module_version": "1.5.0",
            "_model_name": "HTMLModel",
            "_view_count": null,
            "_view_module": "@jupyter-widgets/controls",
            "_view_module_version": "1.5.0",
            "_view_name": "HTMLView",
            "description": "",
            "description_tooltip": null,
            "layout": "IPY_MODEL_ab1bc6af951d4e38a9e7ab6f68d5e951",
            "placeholder": "​",
            "style": "IPY_MODEL_f3ba07843b104f2192fa689e59a18831",
            "value": " 28.0/28.0 [00:00&lt;00:00, 136B/s]"
          }
        },
        "065044ddf13c47569f6489bfb242709c": {
          "model_module": "@jupyter-widgets/controls",
          "model_module_version": "1.5.0",
          "model_name": "ProgressStyleModel",
          "state": {
            "_model_module": "@jupyter-widgets/controls",
            "_model_module_version": "1.5.0",
            "_model_name": "ProgressStyleModel",
            "_view_count": null,
            "_view_module": "@jupyter-widgets/base",
            "_view_module_version": "1.2.0",
            "_view_name": "StyleView",
            "bar_color": null,
            "description_width": ""
          }
        },
        "1c71d92986ff46c6b35e03e14a72943b": {
          "model_module": "@jupyter-widgets/base",
          "model_module_version": "1.2.0",
          "model_name": "LayoutModel",
          "state": {
            "_model_module": "@jupyter-widgets/base",
            "_model_module_version": "1.2.0",
            "_model_name": "LayoutModel",
            "_view_count": null,
            "_view_module": "@jupyter-widgets/base",
            "_view_module_version": "1.2.0",
            "_view_name": "LayoutView",
            "align_content": null,
            "align_items": null,
            "align_self": null,
            "border": null,
            "bottom": null,
            "display": null,
            "flex": null,
            "flex_flow": null,
            "grid_area": null,
            "grid_auto_columns": null,
            "grid_auto_flow": null,
            "grid_auto_rows": null,
            "grid_column": null,
            "grid_gap": null,
            "grid_row": null,
            "grid_template_areas": null,
            "grid_template_columns": null,
            "grid_template_rows": null,
            "height": null,
            "justify_content": null,
            "justify_items": null,
            "left": null,
            "margin": null,
            "max_height": null,
            "max_width": null,
            "min_height": null,
            "min_width": null,
            "object_fit": null,
            "object_position": null,
            "order": null,
            "overflow": null,
            "overflow_x": null,
            "overflow_y": null,
            "padding": null,
            "right": null,
            "top": null,
            "visibility": null,
            "width": null
          }
        },
        "1f037735492d49ed9eab5a900d090c0b": {
          "model_module": "@jupyter-widgets/base",
          "model_module_version": "1.2.0",
          "model_name": "LayoutModel",
          "state": {
            "_model_module": "@jupyter-widgets/base",
            "_model_module_version": "1.2.0",
            "_model_name": "LayoutModel",
            "_view_count": null,
            "_view_module": "@jupyter-widgets/base",
            "_view_module_version": "1.2.0",
            "_view_name": "LayoutView",
            "align_content": null,
            "align_items": null,
            "align_self": null,
            "border": null,
            "bottom": null,
            "display": null,
            "flex": null,
            "flex_flow": null,
            "grid_area": null,
            "grid_auto_columns": null,
            "grid_auto_flow": null,
            "grid_auto_rows": null,
            "grid_column": null,
            "grid_gap": null,
            "grid_row": null,
            "grid_template_areas": null,
            "grid_template_columns": null,
            "grid_template_rows": null,
            "height": null,
            "justify_content": null,
            "justify_items": null,
            "left": null,
            "margin": null,
            "max_height": null,
            "max_width": null,
            "min_height": null,
            "min_width": null,
            "object_fit": null,
            "object_position": null,
            "order": null,
            "overflow": null,
            "overflow_x": null,
            "overflow_y": null,
            "padding": null,
            "right": null,
            "top": null,
            "visibility": null,
            "width": null
          }
        },
        "22caf9f5aa904b9caade29752bcf7d64": {
          "model_module": "@jupyter-widgets/base",
          "model_module_version": "1.2.0",
          "model_name": "LayoutModel",
          "state": {
            "_model_module": "@jupyter-widgets/base",
            "_model_module_version": "1.2.0",
            "_model_name": "LayoutModel",
            "_view_count": null,
            "_view_module": "@jupyter-widgets/base",
            "_view_module_version": "1.2.0",
            "_view_name": "LayoutView",
            "align_content": null,
            "align_items": null,
            "align_self": null,
            "border": null,
            "bottom": null,
            "display": null,
            "flex": null,
            "flex_flow": null,
            "grid_area": null,
            "grid_auto_columns": null,
            "grid_auto_flow": null,
            "grid_auto_rows": null,
            "grid_column": null,
            "grid_gap": null,
            "grid_row": null,
            "grid_template_areas": null,
            "grid_template_columns": null,
            "grid_template_rows": null,
            "height": null,
            "justify_content": null,
            "justify_items": null,
            "left": null,
            "margin": null,
            "max_height": null,
            "max_width": null,
            "min_height": null,
            "min_width": null,
            "object_fit": null,
            "object_position": null,
            "order": null,
            "overflow": null,
            "overflow_x": null,
            "overflow_y": null,
            "padding": null,
            "right": null,
            "top": null,
            "visibility": null,
            "width": null
          }
        },
        "2452e4e1c2544df88ca6892823033ae4": {
          "model_module": "@jupyter-widgets/controls",
          "model_module_version": "1.5.0",
          "model_name": "HBoxModel",
          "state": {
            "_dom_classes": [],
            "_model_module": "@jupyter-widgets/controls",
            "_model_module_version": "1.5.0",
            "_model_name": "HBoxModel",
            "_view_count": null,
            "_view_module": "@jupyter-widgets/controls",
            "_view_module_version": "1.5.0",
            "_view_name": "HBoxView",
            "box_style": "",
            "children": [
              "IPY_MODEL_beba35c40eac4ba7b30c9b937f37d428",
              "IPY_MODEL_b4ba5f8af8ac46c4b7c937442acd1850",
              "IPY_MODEL_04f6ecf0b38243879aa25ce1d279b4d8"
            ],
            "layout": "IPY_MODEL_22caf9f5aa904b9caade29752bcf7d64"
          }
        },
        "2b7f5bf4766449539d4c628da521e2a2": {
          "model_module": "@jupyter-widgets/controls",
          "model_module_version": "1.5.0",
          "model_name": "ProgressStyleModel",
          "state": {
            "_model_module": "@jupyter-widgets/controls",
            "_model_module_version": "1.5.0",
            "_model_name": "ProgressStyleModel",
            "_view_count": null,
            "_view_module": "@jupyter-widgets/base",
            "_view_module_version": "1.2.0",
            "_view_name": "StyleView",
            "bar_color": null,
            "description_width": ""
          }
        },
        "463667aeafb641d18dc5435f66e53a7b": {
          "model_module": "@jupyter-widgets/base",
          "model_module_version": "1.2.0",
          "model_name": "LayoutModel",
          "state": {
            "_model_module": "@jupyter-widgets/base",
            "_model_module_version": "1.2.0",
            "_model_name": "LayoutModel",
            "_view_count": null,
            "_view_module": "@jupyter-widgets/base",
            "_view_module_version": "1.2.0",
            "_view_name": "LayoutView",
            "align_content": null,
            "align_items": null,
            "align_self": null,
            "border": null,
            "bottom": null,
            "display": null,
            "flex": null,
            "flex_flow": null,
            "grid_area": null,
            "grid_auto_columns": null,
            "grid_auto_flow": null,
            "grid_auto_rows": null,
            "grid_column": null,
            "grid_gap": null,
            "grid_row": null,
            "grid_template_areas": null,
            "grid_template_columns": null,
            "grid_template_rows": null,
            "height": null,
            "justify_content": null,
            "justify_items": null,
            "left": null,
            "margin": null,
            "max_height": null,
            "max_width": null,
            "min_height": null,
            "min_width": null,
            "object_fit": null,
            "object_position": null,
            "order": null,
            "overflow": null,
            "overflow_x": null,
            "overflow_y": null,
            "padding": null,
            "right": null,
            "top": null,
            "visibility": null,
            "width": null
          }
        },
        "496e9968cf6e4f8aa093e43213d10041": {
          "model_module": "@jupyter-widgets/controls",
          "model_module_version": "1.5.0",
          "model_name": "DescriptionStyleModel",
          "state": {
            "_model_module": "@jupyter-widgets/controls",
            "_model_module_version": "1.5.0",
            "_model_name": "DescriptionStyleModel",
            "_view_count": null,
            "_view_module": "@jupyter-widgets/base",
            "_view_module_version": "1.2.0",
            "_view_name": "StyleView",
            "description_width": ""
          }
        },
        "5133b40727c84576abf1fe08665f9490": {
          "model_module": "@jupyter-widgets/controls",
          "model_module_version": "1.5.0",
          "model_name": "ProgressStyleModel",
          "state": {
            "_model_module": "@jupyter-widgets/controls",
            "_model_module_version": "1.5.0",
            "_model_name": "ProgressStyleModel",
            "_view_count": null,
            "_view_module": "@jupyter-widgets/base",
            "_view_module_version": "1.2.0",
            "_view_name": "StyleView",
            "bar_color": null,
            "description_width": ""
          }
        },
        "51e75de364784a66a153e193ef358155": {
          "model_module": "@jupyter-widgets/controls",
          "model_module_version": "1.5.0",
          "model_name": "ProgressStyleModel",
          "state": {
            "_model_module": "@jupyter-widgets/controls",
            "_model_module_version": "1.5.0",
            "_model_name": "ProgressStyleModel",
            "_view_count": null,
            "_view_module": "@jupyter-widgets/base",
            "_view_module_version": "1.2.0",
            "_view_name": "StyleView",
            "bar_color": null,
            "description_width": ""
          }
        },
        "528b3fe7f26443f797f55c1b5cb1847f": {
          "model_module": "@jupyter-widgets/controls",
          "model_module_version": "1.5.0",
          "model_name": "FloatProgressModel",
          "state": {
            "_dom_classes": [],
            "_model_module": "@jupyter-widgets/controls",
            "_model_module_version": "1.5.0",
            "_model_name": "FloatProgressModel",
            "_view_count": null,
            "_view_module": "@jupyter-widgets/controls",
            "_view_module_version": "1.5.0",
            "_view_name": "ProgressView",
            "bar_style": "success",
            "description": "",
            "description_tooltip": null,
            "layout": "IPY_MODEL_b7559d5fb3fe4871b01dcbb52235725c",
            "max": 231508,
            "min": 0,
            "orientation": "horizontal",
            "style": "IPY_MODEL_2b7f5bf4766449539d4c628da521e2a2",
            "value": 231508
          }
        },
        "5d9736d4538d4e91aabd2e597ea55087": {
          "model_module": "@jupyter-widgets/controls",
          "model_module_version": "1.5.0",
          "model_name": "HBoxModel",
          "state": {
            "_dom_classes": [],
            "_model_module": "@jupyter-widgets/controls",
            "_model_module_version": "1.5.0",
            "_model_name": "HBoxModel",
            "_view_count": null,
            "_view_module": "@jupyter-widgets/controls",
            "_view_module_version": "1.5.0",
            "_view_name": "HBoxView",
            "box_style": "",
            "children": [
              "IPY_MODEL_b13fcfc362fe4f14a2cfd09922d4837a",
              "IPY_MODEL_72b56dba2b664a45b86a18c54fb6f156",
              "IPY_MODEL_befaa495337c4ebeb3cdb78b80d93e87"
            ],
            "layout": "IPY_MODEL_b12859b1d82c4e32baa61d16f30d970c"
          }
        },
        "6567cbddb9574dc7a410c5796dec95be": {
          "model_module": "@jupyter-widgets/base",
          "model_module_version": "1.2.0",
          "model_name": "LayoutModel",
          "state": {
            "_model_module": "@jupyter-widgets/base",
            "_model_module_version": "1.2.0",
            "_model_name": "LayoutModel",
            "_view_count": null,
            "_view_module": "@jupyter-widgets/base",
            "_view_module_version": "1.2.0",
            "_view_name": "LayoutView",
            "align_content": null,
            "align_items": null,
            "align_self": null,
            "border": null,
            "bottom": null,
            "display": null,
            "flex": null,
            "flex_flow": null,
            "grid_area": null,
            "grid_auto_columns": null,
            "grid_auto_flow": null,
            "grid_auto_rows": null,
            "grid_column": null,
            "grid_gap": null,
            "grid_row": null,
            "grid_template_areas": null,
            "grid_template_columns": null,
            "grid_template_rows": null,
            "height": null,
            "justify_content": null,
            "justify_items": null,
            "left": null,
            "margin": null,
            "max_height": null,
            "max_width": null,
            "min_height": null,
            "min_width": null,
            "object_fit": null,
            "object_position": null,
            "order": null,
            "overflow": null,
            "overflow_x": null,
            "overflow_y": null,
            "padding": null,
            "right": null,
            "top": null,
            "visibility": null,
            "width": null
          }
        },
        "6a43949a6263422385f7442562a168a3": {
          "model_module": "@jupyter-widgets/controls",
          "model_module_version": "1.5.0",
          "model_name": "HTMLModel",
          "state": {
            "_dom_classes": [],
            "_model_module": "@jupyter-widgets/controls",
            "_model_module_version": "1.5.0",
            "_model_name": "HTMLModel",
            "_view_count": null,
            "_view_module": "@jupyter-widgets/controls",
            "_view_module_version": "1.5.0",
            "_view_name": "HTMLView",
            "description": "",
            "description_tooltip": null,
            "layout": "IPY_MODEL_a63ec008cc7d41e5b3a01da06d086864",
            "placeholder": "​",
            "style": "IPY_MODEL_a3d820f557bd492f95f560c2c5188a63",
            "value": "Downloading: 100%"
          }
        },
        "704dc5bb10f949089a9f6914b72856d4": {
          "model_module": "@jupyter-widgets/base",
          "model_module_version": "1.2.0",
          "model_name": "LayoutModel",
          "state": {
            "_model_module": "@jupyter-widgets/base",
            "_model_module_version": "1.2.0",
            "_model_name": "LayoutModel",
            "_view_count": null,
            "_view_module": "@jupyter-widgets/base",
            "_view_module_version": "1.2.0",
            "_view_name": "LayoutView",
            "align_content": null,
            "align_items": null,
            "align_self": null,
            "border": null,
            "bottom": null,
            "display": null,
            "flex": null,
            "flex_flow": null,
            "grid_area": null,
            "grid_auto_columns": null,
            "grid_auto_flow": null,
            "grid_auto_rows": null,
            "grid_column": null,
            "grid_gap": null,
            "grid_row": null,
            "grid_template_areas": null,
            "grid_template_columns": null,
            "grid_template_rows": null,
            "height": null,
            "justify_content": null,
            "justify_items": null,
            "left": null,
            "margin": null,
            "max_height": null,
            "max_width": null,
            "min_height": null,
            "min_width": null,
            "object_fit": null,
            "object_position": null,
            "order": null,
            "overflow": null,
            "overflow_x": null,
            "overflow_y": null,
            "padding": null,
            "right": null,
            "top": null,
            "visibility": null,
            "width": null
          }
        },
        "72b56dba2b664a45b86a18c54fb6f156": {
          "model_module": "@jupyter-widgets/controls",
          "model_module_version": "1.5.0",
          "model_name": "FloatProgressModel",
          "state": {
            "_dom_classes": [],
            "_model_module": "@jupyter-widgets/controls",
            "_model_module_version": "1.5.0",
            "_model_name": "FloatProgressModel",
            "_view_count": null,
            "_view_module": "@jupyter-widgets/controls",
            "_view_module_version": "1.5.0",
            "_view_name": "ProgressView",
            "bar_style": "success",
            "description": "",
            "description_tooltip": null,
            "layout": "IPY_MODEL_9d56110a97204d26824a4497cda268fa",
            "max": 440473133,
            "min": 0,
            "orientation": "horizontal",
            "style": "IPY_MODEL_065044ddf13c47569f6489bfb242709c",
            "value": 440473133
          }
        },
        "7328459c390c4fbba9d44a1f539b0ca5": {
          "model_module": "@jupyter-widgets/controls",
          "model_module_version": "1.5.0",
          "model_name": "HTMLModel",
          "state": {
            "_dom_classes": [],
            "_model_module": "@jupyter-widgets/controls",
            "_model_module_version": "1.5.0",
            "_model_name": "HTMLModel",
            "_view_count": null,
            "_view_module": "@jupyter-widgets/controls",
            "_view_module_version": "1.5.0",
            "_view_name": "HTMLView",
            "description": "",
            "description_tooltip": null,
            "layout": "IPY_MODEL_e971deb8e62b421c89a22ea98533a427",
            "placeholder": "​",
            "style": "IPY_MODEL_d4f0534d001049779a8516222f641c78",
            "value": "Downloading: 100%"
          }
        },
        "73f281ecc50d4129926ed5dee45187c0": {
          "model_module": "@jupyter-widgets/controls",
          "model_module_version": "1.5.0",
          "model_name": "DescriptionStyleModel",
          "state": {
            "_model_module": "@jupyter-widgets/controls",
            "_model_module_version": "1.5.0",
            "_model_name": "DescriptionStyleModel",
            "_view_count": null,
            "_view_module": "@jupyter-widgets/base",
            "_view_module_version": "1.2.0",
            "_view_name": "StyleView",
            "description_width": ""
          }
        },
        "801f1f9a26d34c57946a9249bb80f4af": {
          "model_module": "@jupyter-widgets/base",
          "model_module_version": "1.2.0",
          "model_name": "LayoutModel",
          "state": {
            "_model_module": "@jupyter-widgets/base",
            "_model_module_version": "1.2.0",
            "_model_name": "LayoutModel",
            "_view_count": null,
            "_view_module": "@jupyter-widgets/base",
            "_view_module_version": "1.2.0",
            "_view_name": "LayoutView",
            "align_content": null,
            "align_items": null,
            "align_self": null,
            "border": null,
            "bottom": null,
            "display": null,
            "flex": null,
            "flex_flow": null,
            "grid_area": null,
            "grid_auto_columns": null,
            "grid_auto_flow": null,
            "grid_auto_rows": null,
            "grid_column": null,
            "grid_gap": null,
            "grid_row": null,
            "grid_template_areas": null,
            "grid_template_columns": null,
            "grid_template_rows": null,
            "height": null,
            "justify_content": null,
            "justify_items": null,
            "left": null,
            "margin": null,
            "max_height": null,
            "max_width": null,
            "min_height": null,
            "min_width": null,
            "object_fit": null,
            "object_position": null,
            "order": null,
            "overflow": null,
            "overflow_x": null,
            "overflow_y": null,
            "padding": null,
            "right": null,
            "top": null,
            "visibility": null,
            "width": null
          }
        },
        "803059e4d38e489cbbb5b1abc0ef9295": {
          "model_module": "@jupyter-widgets/controls",
          "model_module_version": "1.5.0",
          "model_name": "DescriptionStyleModel",
          "state": {
            "_model_module": "@jupyter-widgets/controls",
            "_model_module_version": "1.5.0",
            "_model_name": "DescriptionStyleModel",
            "_view_count": null,
            "_view_module": "@jupyter-widgets/base",
            "_view_module_version": "1.2.0",
            "_view_name": "StyleView",
            "description_width": ""
          }
        },
        "82d5f6dade6e46ebaab8f08838bc263d": {
          "model_module": "@jupyter-widgets/base",
          "model_module_version": "1.2.0",
          "model_name": "LayoutModel",
          "state": {
            "_model_module": "@jupyter-widgets/base",
            "_model_module_version": "1.2.0",
            "_model_name": "LayoutModel",
            "_view_count": null,
            "_view_module": "@jupyter-widgets/base",
            "_view_module_version": "1.2.0",
            "_view_name": "LayoutView",
            "align_content": null,
            "align_items": null,
            "align_self": null,
            "border": null,
            "bottom": null,
            "display": null,
            "flex": null,
            "flex_flow": null,
            "grid_area": null,
            "grid_auto_columns": null,
            "grid_auto_flow": null,
            "grid_auto_rows": null,
            "grid_column": null,
            "grid_gap": null,
            "grid_row": null,
            "grid_template_areas": null,
            "grid_template_columns": null,
            "grid_template_rows": null,
            "height": null,
            "justify_content": null,
            "justify_items": null,
            "left": null,
            "margin": null,
            "max_height": null,
            "max_width": null,
            "min_height": null,
            "min_width": null,
            "object_fit": null,
            "object_position": null,
            "order": null,
            "overflow": null,
            "overflow_x": null,
            "overflow_y": null,
            "padding": null,
            "right": null,
            "top": null,
            "visibility": null,
            "width": null
          }
        },
        "9d56110a97204d26824a4497cda268fa": {
          "model_module": "@jupyter-widgets/base",
          "model_module_version": "1.2.0",
          "model_name": "LayoutModel",
          "state": {
            "_model_module": "@jupyter-widgets/base",
            "_model_module_version": "1.2.0",
            "_model_name": "LayoutModel",
            "_view_count": null,
            "_view_module": "@jupyter-widgets/base",
            "_view_module_version": "1.2.0",
            "_view_name": "LayoutView",
            "align_content": null,
            "align_items": null,
            "align_self": null,
            "border": null,
            "bottom": null,
            "display": null,
            "flex": null,
            "flex_flow": null,
            "grid_area": null,
            "grid_auto_columns": null,
            "grid_auto_flow": null,
            "grid_auto_rows": null,
            "grid_column": null,
            "grid_gap": null,
            "grid_row": null,
            "grid_template_areas": null,
            "grid_template_columns": null,
            "grid_template_rows": null,
            "height": null,
            "justify_content": null,
            "justify_items": null,
            "left": null,
            "margin": null,
            "max_height": null,
            "max_width": null,
            "min_height": null,
            "min_width": null,
            "object_fit": null,
            "object_position": null,
            "order": null,
            "overflow": null,
            "overflow_x": null,
            "overflow_y": null,
            "padding": null,
            "right": null,
            "top": null,
            "visibility": null,
            "width": null
          }
        },
        "a06596efa73b4ea28461a12ba8edf00b": {
          "model_module": "@jupyter-widgets/controls",
          "model_module_version": "1.5.0",
          "model_name": "HTMLModel",
          "state": {
            "_dom_classes": [],
            "_model_module": "@jupyter-widgets/controls",
            "_model_module_version": "1.5.0",
            "_model_name": "HTMLModel",
            "_view_count": null,
            "_view_module": "@jupyter-widgets/controls",
            "_view_module_version": "1.5.0",
            "_view_name": "HTMLView",
            "description": "",
            "description_tooltip": null,
            "layout": "IPY_MODEL_d77977e58652491685f4b3f5bbce8a44",
            "placeholder": "​",
            "style": "IPY_MODEL_73f281ecc50d4129926ed5dee45187c0",
            "value": " 226k/226k [00:00&lt;00:00, 4.00kB/s]"
          }
        },
        "a3d820f557bd492f95f560c2c5188a63": {
          "model_module": "@jupyter-widgets/controls",
          "model_module_version": "1.5.0",
          "model_name": "DescriptionStyleModel",
          "state": {
            "_model_module": "@jupyter-widgets/controls",
            "_model_module_version": "1.5.0",
            "_model_name": "DescriptionStyleModel",
            "_view_count": null,
            "_view_module": "@jupyter-widgets/base",
            "_view_module_version": "1.2.0",
            "_view_name": "StyleView",
            "description_width": ""
          }
        },
        "a63ec008cc7d41e5b3a01da06d086864": {
          "model_module": "@jupyter-widgets/base",
          "model_module_version": "1.2.0",
          "model_name": "LayoutModel",
          "state": {
            "_model_module": "@jupyter-widgets/base",
            "_model_module_version": "1.2.0",
            "_model_name": "LayoutModel",
            "_view_count": null,
            "_view_module": "@jupyter-widgets/base",
            "_view_module_version": "1.2.0",
            "_view_name": "LayoutView",
            "align_content": null,
            "align_items": null,
            "align_self": null,
            "border": null,
            "bottom": null,
            "display": null,
            "flex": null,
            "flex_flow": null,
            "grid_area": null,
            "grid_auto_columns": null,
            "grid_auto_flow": null,
            "grid_auto_rows": null,
            "grid_column": null,
            "grid_gap": null,
            "grid_row": null,
            "grid_template_areas": null,
            "grid_template_columns": null,
            "grid_template_rows": null,
            "height": null,
            "justify_content": null,
            "justify_items": null,
            "left": null,
            "margin": null,
            "max_height": null,
            "max_width": null,
            "min_height": null,
            "min_width": null,
            "object_fit": null,
            "object_position": null,
            "order": null,
            "overflow": null,
            "overflow_x": null,
            "overflow_y": null,
            "padding": null,
            "right": null,
            "top": null,
            "visibility": null,
            "width": null
          }
        },
        "a9da75612621416ab83501c15b575e55": {
          "model_module": "@jupyter-widgets/controls",
          "model_module_version": "1.5.0",
          "model_name": "FloatProgressModel",
          "state": {
            "_dom_classes": [],
            "_model_module": "@jupyter-widgets/controls",
            "_model_module_version": "1.5.0",
            "_model_name": "FloatProgressModel",
            "_view_count": null,
            "_view_module": "@jupyter-widgets/controls",
            "_view_module_version": "1.5.0",
            "_view_name": "ProgressView",
            "bar_style": "success",
            "description": "",
            "description_tooltip": null,
            "layout": "IPY_MODEL_704dc5bb10f949089a9f6914b72856d4",
            "max": 570,
            "min": 0,
            "orientation": "horizontal",
            "style": "IPY_MODEL_5133b40727c84576abf1fe08665f9490",
            "value": 570
          }
        },
        "ab1bc6af951d4e38a9e7ab6f68d5e951": {
          "model_module": "@jupyter-widgets/base",
          "model_module_version": "1.2.0",
          "model_name": "LayoutModel",
          "state": {
            "_model_module": "@jupyter-widgets/base",
            "_model_module_version": "1.2.0",
            "_model_name": "LayoutModel",
            "_view_count": null,
            "_view_module": "@jupyter-widgets/base",
            "_view_module_version": "1.2.0",
            "_view_name": "LayoutView",
            "align_content": null,
            "align_items": null,
            "align_self": null,
            "border": null,
            "bottom": null,
            "display": null,
            "flex": null,
            "flex_flow": null,
            "grid_area": null,
            "grid_auto_columns": null,
            "grid_auto_flow": null,
            "grid_auto_rows": null,
            "grid_column": null,
            "grid_gap": null,
            "grid_row": null,
            "grid_template_areas": null,
            "grid_template_columns": null,
            "grid_template_rows": null,
            "height": null,
            "justify_content": null,
            "justify_items": null,
            "left": null,
            "margin": null,
            "max_height": null,
            "max_width": null,
            "min_height": null,
            "min_width": null,
            "object_fit": null,
            "object_position": null,
            "order": null,
            "overflow": null,
            "overflow_x": null,
            "overflow_y": null,
            "padding": null,
            "right": null,
            "top": null,
            "visibility": null,
            "width": null
          }
        },
        "b12859b1d82c4e32baa61d16f30d970c": {
          "model_module": "@jupyter-widgets/base",
          "model_module_version": "1.2.0",
          "model_name": "LayoutModel",
          "state": {
            "_model_module": "@jupyter-widgets/base",
            "_model_module_version": "1.2.0",
            "_model_name": "LayoutModel",
            "_view_count": null,
            "_view_module": "@jupyter-widgets/base",
            "_view_module_version": "1.2.0",
            "_view_name": "LayoutView",
            "align_content": null,
            "align_items": null,
            "align_self": null,
            "border": null,
            "bottom": null,
            "display": null,
            "flex": null,
            "flex_flow": null,
            "grid_area": null,
            "grid_auto_columns": null,
            "grid_auto_flow": null,
            "grid_auto_rows": null,
            "grid_column": null,
            "grid_gap": null,
            "grid_row": null,
            "grid_template_areas": null,
            "grid_template_columns": null,
            "grid_template_rows": null,
            "height": null,
            "justify_content": null,
            "justify_items": null,
            "left": null,
            "margin": null,
            "max_height": null,
            "max_width": null,
            "min_height": null,
            "min_width": null,
            "object_fit": null,
            "object_position": null,
            "order": null,
            "overflow": null,
            "overflow_x": null,
            "overflow_y": null,
            "padding": null,
            "right": null,
            "top": null,
            "visibility": null,
            "width": null
          }
        },
        "b13fcfc362fe4f14a2cfd09922d4837a": {
          "model_module": "@jupyter-widgets/controls",
          "model_module_version": "1.5.0",
          "model_name": "HTMLModel",
          "state": {
            "_dom_classes": [],
            "_model_module": "@jupyter-widgets/controls",
            "_model_module_version": "1.5.0",
            "_model_name": "HTMLModel",
            "_view_count": null,
            "_view_module": "@jupyter-widgets/controls",
            "_view_module_version": "1.5.0",
            "_view_name": "HTMLView",
            "description": "",
            "description_tooltip": null,
            "layout": "IPY_MODEL_1c71d92986ff46c6b35e03e14a72943b",
            "placeholder": "​",
            "style": "IPY_MODEL_803059e4d38e489cbbb5b1abc0ef9295",
            "value": "Downloading: 100%"
          }
        },
        "b2b7f4f9440347aaa3ae89f025464fdd": {
          "model_module": "@jupyter-widgets/controls",
          "model_module_version": "1.5.0",
          "model_name": "HBoxModel",
          "state": {
            "_dom_classes": [],
            "_model_module": "@jupyter-widgets/controls",
            "_model_module_version": "1.5.0",
            "_model_name": "HBoxModel",
            "_view_count": null,
            "_view_module": "@jupyter-widgets/controls",
            "_view_module_version": "1.5.0",
            "_view_name": "HBoxView",
            "box_style": "",
            "children": [
              "IPY_MODEL_7328459c390c4fbba9d44a1f539b0ca5",
              "IPY_MODEL_528b3fe7f26443f797f55c1b5cb1847f",
              "IPY_MODEL_a06596efa73b4ea28461a12ba8edf00b"
            ],
            "layout": "IPY_MODEL_82d5f6dade6e46ebaab8f08838bc263d"
          }
        },
        "b4ba5f8af8ac46c4b7c937442acd1850": {
          "model_module": "@jupyter-widgets/controls",
          "model_module_version": "1.5.0",
          "model_name": "FloatProgressModel",
          "state": {
            "_dom_classes": [],
            "_model_module": "@jupyter-widgets/controls",
            "_model_module_version": "1.5.0",
            "_model_name": "FloatProgressModel",
            "_view_count": null,
            "_view_module": "@jupyter-widgets/controls",
            "_view_module_version": "1.5.0",
            "_view_name": "ProgressView",
            "bar_style": "success",
            "description": "",
            "description_tooltip": null,
            "layout": "IPY_MODEL_cce4575d0c1c4cd5a02c7d3344e5885a",
            "max": 28,
            "min": 0,
            "orientation": "horizontal",
            "style": "IPY_MODEL_51e75de364784a66a153e193ef358155",
            "value": 28
          }
        },
        "b7559d5fb3fe4871b01dcbb52235725c": {
          "model_module": "@jupyter-widgets/base",
          "model_module_version": "1.2.0",
          "model_name": "LayoutModel",
          "state": {
            "_model_module": "@jupyter-widgets/base",
            "_model_module_version": "1.2.0",
            "_model_name": "LayoutModel",
            "_view_count": null,
            "_view_module": "@jupyter-widgets/base",
            "_view_module_version": "1.2.0",
            "_view_name": "LayoutView",
            "align_content": null,
            "align_items": null,
            "align_self": null,
            "border": null,
            "bottom": null,
            "display": null,
            "flex": null,
            "flex_flow": null,
            "grid_area": null,
            "grid_auto_columns": null,
            "grid_auto_flow": null,
            "grid_auto_rows": null,
            "grid_column": null,
            "grid_gap": null,
            "grid_row": null,
            "grid_template_areas": null,
            "grid_template_columns": null,
            "grid_template_rows": null,
            "height": null,
            "justify_content": null,
            "justify_items": null,
            "left": null,
            "margin": null,
            "max_height": null,
            "max_width": null,
            "min_height": null,
            "min_width": null,
            "object_fit": null,
            "object_position": null,
            "order": null,
            "overflow": null,
            "overflow_x": null,
            "overflow_y": null,
            "padding": null,
            "right": null,
            "top": null,
            "visibility": null,
            "width": null
          }
        },
        "b8427fb61116402f97ff1779736e291c": {
          "model_module": "@jupyter-widgets/controls",
          "model_module_version": "1.5.0",
          "model_name": "HBoxModel",
          "state": {
            "_dom_classes": [],
            "_model_module": "@jupyter-widgets/controls",
            "_model_module_version": "1.5.0",
            "_model_name": "HBoxModel",
            "_view_count": null,
            "_view_module": "@jupyter-widgets/controls",
            "_view_module_version": "1.5.0",
            "_view_name": "HBoxView",
            "box_style": "",
            "children": [
              "IPY_MODEL_6a43949a6263422385f7442562a168a3",
              "IPY_MODEL_a9da75612621416ab83501c15b575e55",
              "IPY_MODEL_dcb9ab0886b94220903b6ada2bb903cc"
            ],
            "layout": "IPY_MODEL_801f1f9a26d34c57946a9249bb80f4af"
          }
        },
        "beba35c40eac4ba7b30c9b937f37d428": {
          "model_module": "@jupyter-widgets/controls",
          "model_module_version": "1.5.0",
          "model_name": "HTMLModel",
          "state": {
            "_dom_classes": [],
            "_model_module": "@jupyter-widgets/controls",
            "_model_module_version": "1.5.0",
            "_model_name": "HTMLModel",
            "_view_count": null,
            "_view_module": "@jupyter-widgets/controls",
            "_view_module_version": "1.5.0",
            "_view_name": "HTMLView",
            "description": "",
            "description_tooltip": null,
            "layout": "IPY_MODEL_6567cbddb9574dc7a410c5796dec95be",
            "placeholder": "​",
            "style": "IPY_MODEL_fa681bf7a2424314bc1c2d1f6d97a7f1",
            "value": "Downloading: 100%"
          }
        },
        "befaa495337c4ebeb3cdb78b80d93e87": {
          "model_module": "@jupyter-widgets/controls",
          "model_module_version": "1.5.0",
          "model_name": "HTMLModel",
          "state": {
            "_dom_classes": [],
            "_model_module": "@jupyter-widgets/controls",
            "_model_module_version": "1.5.0",
            "_model_name": "HTMLModel",
            "_view_count": null,
            "_view_module": "@jupyter-widgets/controls",
            "_view_module_version": "1.5.0",
            "_view_name": "HTMLView",
            "description": "",
            "description_tooltip": null,
            "layout": "IPY_MODEL_463667aeafb641d18dc5435f66e53a7b",
            "placeholder": "​",
            "style": "IPY_MODEL_04d173c342784fdfafda736c4526f887",
            "value": " 420M/420M [00:16&lt;00:00, 40.6MB/s]"
          }
        },
        "cce4575d0c1c4cd5a02c7d3344e5885a": {
          "model_module": "@jupyter-widgets/base",
          "model_module_version": "1.2.0",
          "model_name": "LayoutModel",
          "state": {
            "_model_module": "@jupyter-widgets/base",
            "_model_module_version": "1.2.0",
            "_model_name": "LayoutModel",
            "_view_count": null,
            "_view_module": "@jupyter-widgets/base",
            "_view_module_version": "1.2.0",
            "_view_name": "LayoutView",
            "align_content": null,
            "align_items": null,
            "align_self": null,
            "border": null,
            "bottom": null,
            "display": null,
            "flex": null,
            "flex_flow": null,
            "grid_area": null,
            "grid_auto_columns": null,
            "grid_auto_flow": null,
            "grid_auto_rows": null,
            "grid_column": null,
            "grid_gap": null,
            "grid_row": null,
            "grid_template_areas": null,
            "grid_template_columns": null,
            "grid_template_rows": null,
            "height": null,
            "justify_content": null,
            "justify_items": null,
            "left": null,
            "margin": null,
            "max_height": null,
            "max_width": null,
            "min_height": null,
            "min_width": null,
            "object_fit": null,
            "object_position": null,
            "order": null,
            "overflow": null,
            "overflow_x": null,
            "overflow_y": null,
            "padding": null,
            "right": null,
            "top": null,
            "visibility": null,
            "width": null
          }
        },
        "d4f0534d001049779a8516222f641c78": {
          "model_module": "@jupyter-widgets/controls",
          "model_module_version": "1.5.0",
          "model_name": "DescriptionStyleModel",
          "state": {
            "_model_module": "@jupyter-widgets/controls",
            "_model_module_version": "1.5.0",
            "_model_name": "DescriptionStyleModel",
            "_view_count": null,
            "_view_module": "@jupyter-widgets/base",
            "_view_module_version": "1.2.0",
            "_view_name": "StyleView",
            "description_width": ""
          }
        },
        "d77977e58652491685f4b3f5bbce8a44": {
          "model_module": "@jupyter-widgets/base",
          "model_module_version": "1.2.0",
          "model_name": "LayoutModel",
          "state": {
            "_model_module": "@jupyter-widgets/base",
            "_model_module_version": "1.2.0",
            "_model_name": "LayoutModel",
            "_view_count": null,
            "_view_module": "@jupyter-widgets/base",
            "_view_module_version": "1.2.0",
            "_view_name": "LayoutView",
            "align_content": null,
            "align_items": null,
            "align_self": null,
            "border": null,
            "bottom": null,
            "display": null,
            "flex": null,
            "flex_flow": null,
            "grid_area": null,
            "grid_auto_columns": null,
            "grid_auto_flow": null,
            "grid_auto_rows": null,
            "grid_column": null,
            "grid_gap": null,
            "grid_row": null,
            "grid_template_areas": null,
            "grid_template_columns": null,
            "grid_template_rows": null,
            "height": null,
            "justify_content": null,
            "justify_items": null,
            "left": null,
            "margin": null,
            "max_height": null,
            "max_width": null,
            "min_height": null,
            "min_width": null,
            "object_fit": null,
            "object_position": null,
            "order": null,
            "overflow": null,
            "overflow_x": null,
            "overflow_y": null,
            "padding": null,
            "right": null,
            "top": null,
            "visibility": null,
            "width": null
          }
        },
        "dcb9ab0886b94220903b6ada2bb903cc": {
          "model_module": "@jupyter-widgets/controls",
          "model_module_version": "1.5.0",
          "model_name": "HTMLModel",
          "state": {
            "_dom_classes": [],
            "_model_module": "@jupyter-widgets/controls",
            "_model_module_version": "1.5.0",
            "_model_name": "HTMLModel",
            "_view_count": null,
            "_view_module": "@jupyter-widgets/controls",
            "_view_module_version": "1.5.0",
            "_view_name": "HTMLView",
            "description": "",
            "description_tooltip": null,
            "layout": "IPY_MODEL_1f037735492d49ed9eab5a900d090c0b",
            "placeholder": "​",
            "style": "IPY_MODEL_496e9968cf6e4f8aa093e43213d10041",
            "value": " 570/570 [00:00&lt;00:00, 2.06kB/s]"
          }
        },
        "e971deb8e62b421c89a22ea98533a427": {
          "model_module": "@jupyter-widgets/base",
          "model_module_version": "1.2.0",
          "model_name": "LayoutModel",
          "state": {
            "_model_module": "@jupyter-widgets/base",
            "_model_module_version": "1.2.0",
            "_model_name": "LayoutModel",
            "_view_count": null,
            "_view_module": "@jupyter-widgets/base",
            "_view_module_version": "1.2.0",
            "_view_name": "LayoutView",
            "align_content": null,
            "align_items": null,
            "align_self": null,
            "border": null,
            "bottom": null,
            "display": null,
            "flex": null,
            "flex_flow": null,
            "grid_area": null,
            "grid_auto_columns": null,
            "grid_auto_flow": null,
            "grid_auto_rows": null,
            "grid_column": null,
            "grid_gap": null,
            "grid_row": null,
            "grid_template_areas": null,
            "grid_template_columns": null,
            "grid_template_rows": null,
            "height": null,
            "justify_content": null,
            "justify_items": null,
            "left": null,
            "margin": null,
            "max_height": null,
            "max_width": null,
            "min_height": null,
            "min_width": null,
            "object_fit": null,
            "object_position": null,
            "order": null,
            "overflow": null,
            "overflow_x": null,
            "overflow_y": null,
            "padding": null,
            "right": null,
            "top": null,
            "visibility": null,
            "width": null
          }
        },
        "f3ba07843b104f2192fa689e59a18831": {
          "model_module": "@jupyter-widgets/controls",
          "model_module_version": "1.5.0",
          "model_name": "DescriptionStyleModel",
          "state": {
            "_model_module": "@jupyter-widgets/controls",
            "_model_module_version": "1.5.0",
            "_model_name": "DescriptionStyleModel",
            "_view_count": null,
            "_view_module": "@jupyter-widgets/base",
            "_view_module_version": "1.2.0",
            "_view_name": "StyleView",
            "description_width": ""
          }
        },
        "fa681bf7a2424314bc1c2d1f6d97a7f1": {
          "model_module": "@jupyter-widgets/controls",
          "model_module_version": "1.5.0",
          "model_name": "DescriptionStyleModel",
          "state": {
            "_model_module": "@jupyter-widgets/controls",
            "_model_module_version": "1.5.0",
            "_model_name": "DescriptionStyleModel",
            "_view_count": null,
            "_view_module": "@jupyter-widgets/base",
            "_view_module_version": "1.2.0",
            "_view_name": "StyleView",
            "description_width": ""
          }
        }
      }
    }
  },
  "nbformat": 4,
  "nbformat_minor": 5
}